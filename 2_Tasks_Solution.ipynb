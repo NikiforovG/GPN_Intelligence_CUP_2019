{
 "cells": [
  {
   "cell_type": "markdown",
   "metadata": {},
   "source": [
    "# GPN Intelligence CUP\n",
    "## Продвинутая аналитика"
   ]
  },
  {
   "cell_type": "markdown",
   "metadata": {},
   "source": [
    "### Выполнил Никифоров Глеб Владиславович"
   ]
  },
  {
   "cell_type": "markdown",
   "metadata": {},
   "source": [
    "Импортируем необходимые библиотеки"
   ]
  },
  {
   "cell_type": "code",
   "execution_count": 1,
   "metadata": {},
   "outputs": [],
   "source": [
    "import pandas as pd\n",
    "import numpy as np"
   ]
  },
  {
   "cell_type": "code",
   "execution_count": 2,
   "metadata": {},
   "outputs": [],
   "source": [
    "%matplotlib inline\n",
    "import matplotlib.pyplot as plt\n",
    "import seaborn as sns"
   ]
  },
  {
   "cell_type": "code",
   "execution_count": 3,
   "metadata": {},
   "outputs": [],
   "source": [
    "import xgboost as xgb\n",
    "from sklearn.model_selection import train_test_split, RandomizedSearchCV\n",
    "from sklearn.metrics import make_scorer, mean_squared_error, r2_score, mean_absolute_error"
   ]
  },
  {
   "cell_type": "markdown",
   "metadata": {},
   "source": [
    "И подготовленные в ноутбуке 1_Data_Preparing данные"
   ]
  },
  {
   "cell_type": "code",
   "execution_count": 4,
   "metadata": {},
   "outputs": [],
   "source": [
    "train_data = pd.read_csv('train_data.csv', index_col=0)\n",
    "prediction_data = pd.read_csv('prediction_data.csv', index_col=0)"
   ]
  },
  {
   "cell_type": "markdown",
   "metadata": {},
   "source": [
    "Некоторые **важные** значения из предыдущего ноутбука"
   ]
  },
  {
   "cell_type": "code",
   "execution_count": 5,
   "metadata": {},
   "outputs": [],
   "source": [
    "volume_mean = 3527.3506493506493\n",
    "volume_std = 3474.835510849148"
   ]
  },
  {
   "cell_type": "code",
   "execution_count": 6,
   "metadata": {},
   "outputs": [],
   "source": [
    "price_mean = 1.5981150052361002\n",
    "price_std = 0.6408107188388122"
   ]
  },
  {
   "cell_type": "code",
   "execution_count": 7,
   "metadata": {},
   "outputs": [],
   "source": [
    "category_dictionary = {'ira': ('AC', 'MN', 'PB'),\n",
    " 'product_category': ('Chocolates', 'Lollipops'),\n",
    " 'brand': ('Cadbury', 'Chupa Chups', 'Ferrero Rocher', 'Milka', 'Snickers', 'Toblerone', 'Twix'),\n",
    " 'sku_id': ('sku #100', 'sku #105', 'sku #106', 'sku #11', 'sku #15', 'sku #16', 'sku #17', 'sku #22', 'sku #25',\n",
    "  'sku #27', 'sku #28', 'sku #3', 'sku #30', 'sku #31', 'sku #33', 'sku #34', 'sku #37', 'sku #38', 'sku #41',\n",
    "  'sku #42', 'sku #43', 'sku #44', 'sku #46', 'sku #48', 'sku #49', 'sku #5', 'sku #55', 'sku #60', 'sku #67',\n",
    "  'sku #7', 'sku #72', 'sku #73', 'sku #76', 'sku #77', 'sku #78', 'sku #79', 'sku #81', 'sku #82', 'sku #83',\n",
    "  'sku #84', 'sku #94', 'sku #97', 'sku #98'),\n",
    " 'item_per_bundle': (1, 2, 3),\n",
    " 'shape': ('Round', 'Square', 'Standart'),\n",
    " 'with_alcohol': ('No', 'Yes'),\n",
    " 'filling': ('Berries', 'Nothing', 'Nuts')}"
   ]
  },
  {
   "cell_type": "code",
   "execution_count": 8,
   "metadata": {},
   "outputs": [],
   "source": [
    "locations = {'AC': 'Alpha City', 'MN': 'Moon', 'PB': 'Pirate Bay'}"
   ]
  },
  {
   "cell_type": "markdown",
   "metadata": {},
   "source": [
    "В качестве модели опять будем использовать регрессор из библиотеки **XGboost**."
   ]
  },
  {
   "cell_type": "markdown",
   "metadata": {},
   "source": [
    "Подготовим все необходимое для обучения."
   ]
  },
  {
   "cell_type": "code",
   "execution_count": 9,
   "metadata": {},
   "outputs": [],
   "source": [
    "y = train_data.volume * volume_std + volume_mean\n",
    "X = train_data.drop(columns=['volume'])"
   ]
  },
  {
   "cell_type": "code",
   "execution_count": 10,
   "metadata": {},
   "outputs": [],
   "source": [
    "X_to_pred = prediction_data.drop(columns=['volume'])"
   ]
  },
  {
   "cell_type": "code",
   "execution_count": 11,
   "metadata": {},
   "outputs": [],
   "source": [
    "X_train, X_test, y_train, y_test = train_test_split(X, y, test_size=0.15, random_state=42)"
   ]
  },
  {
   "cell_type": "markdown",
   "metadata": {},
   "source": [
    "Введем обозначенную в задании метрику"
   ]
  },
  {
   "cell_type": "code",
   "execution_count": 12,
   "metadata": {},
   "outputs": [],
   "source": [
    "def SMAPE(y_true, y_pred):\n",
    "    smape = 100 * (2 * abs(y_pred - y_true) / (abs(y_pred) + abs(y_true))).mean()\n",
    "    return smape"
   ]
  },
  {
   "cell_type": "code",
   "execution_count": 13,
   "metadata": {},
   "outputs": [],
   "source": [
    "smape = make_scorer(SMAPE, greater_is_better=False)"
   ]
  },
  {
   "cell_type": "markdown",
   "metadata": {},
   "source": [
    "и среднюю относительную ошибку"
   ]
  },
  {
   "cell_type": "code",
   "execution_count": 14,
   "metadata": {},
   "outputs": [],
   "source": [
    "def MRE(y_true, y_pred):\n",
    "    return (abs(y_pred - y_true) / y_true).mean()"
   ]
  },
  {
   "cell_type": "markdown",
   "metadata": {},
   "source": [
    "**Подготовим и обучим модель**"
   ]
  },
  {
   "cell_type": "code",
   "execution_count": 15,
   "metadata": {},
   "outputs": [],
   "source": [
    "regr = xgb.XGBRegressor()"
   ]
  },
  {
   "cell_type": "code",
   "execution_count": 16,
   "metadata": {},
   "outputs": [],
   "source": [
    "parameters = {'learning_rate': [0.001, 0.005, 0.01, 0.05, 0.1, 0.3, 0.6],\n",
    "              'verbosity': range(0, 4),\n",
    "              'booster': ['gbtree', 'gblinear'],\n",
    "              'max_depth': range(4, 15), 'min_samples_split': range(50, 500, 15),\n",
    "              'min_samples_leaf': range(50, 500, 10),\n",
    "              'n_estimators': range(50, 1000, 15)}"
   ]
  },
  {
   "cell_type": "markdown",
   "metadata": {},
   "source": [
    "Следующий шаг в угоду точности выполняется **очень** долго. Если время принципиально, можно убавить количество итераций или варьируемых параметров, но тогда можно потерять в точности."
   ]
  },
  {
   "cell_type": "code",
   "execution_count": 17,
   "metadata": {},
   "outputs": [],
   "source": [
    "rand_search_cv = RandomizedSearchCV(regr, parameters, cv=5, scoring=smape,\n",
    "                                    n_iter=150, n_jobs=-1, random_state=1)"
   ]
  },
  {
   "cell_type": "code",
   "execution_count": 18,
   "metadata": {
    "scrolled": true
   },
   "outputs": [
    {
     "name": "stderr",
     "output_type": "stream",
     "text": [
      "/home/gleb/.local/lib/python3.6/site-packages/xgboost/core.py:587: FutureWarning: Series.base is deprecated and will be removed in a future version\n",
      "  if getattr(data, 'base', None) is not None and \\\n"
     ]
    },
    {
     "data": {
      "text/plain": [
       "RandomizedSearchCV(cv=5, error_score='raise-deprecating',\n",
       "                   estimator=XGBRegressor(base_score=0.5, booster='gbtree',\n",
       "                                          colsample_bylevel=1,\n",
       "                                          colsample_bynode=1,\n",
       "                                          colsample_bytree=1, gamma=0,\n",
       "                                          importance_type='gain',\n",
       "                                          learning_rate=0.1, max_delta_step=0,\n",
       "                                          max_depth=3, min_child_weight=1,\n",
       "                                          missing=None, n_estimators=100,\n",
       "                                          n_jobs=1, nthread=None,\n",
       "                                          objective='reg:linear',\n",
       "                                          random_st...\n",
       "                   param_distributions={'booster': ['gbtree', 'gblinear'],\n",
       "                                        'learning_rate': [0.001, 0.005, 0.01,\n",
       "                                                          0.05, 0.1, 0.3, 0.6],\n",
       "                                        'max_depth': range(4, 15),\n",
       "                                        'min_samples_leaf': range(50, 500, 10),\n",
       "                                        'min_samples_split': range(50, 500, 15),\n",
       "                                        'n_estimators': range(50, 1000, 15),\n",
       "                                        'verbosity': range(0, 4)},\n",
       "                   pre_dispatch='2*n_jobs', random_state=1, refit=True,\n",
       "                   return_train_score=False,\n",
       "                   scoring=make_scorer(SMAPE, greater_is_better=False),\n",
       "                   verbose=0)"
      ]
     },
     "execution_count": 18,
     "metadata": {},
     "output_type": "execute_result"
    }
   ],
   "source": [
    "rand_search_cv.fit(X_train, y_train)"
   ]
  },
  {
   "cell_type": "code",
   "execution_count": 19,
   "metadata": {},
   "outputs": [
    {
     "data": {
      "text/plain": [
       "{'verbosity': 0,\n",
       " 'n_estimators': 170,\n",
       " 'min_samples_split': 455,\n",
       " 'min_samples_leaf': 120,\n",
       " 'max_depth': 12,\n",
       " 'learning_rate': 0.1,\n",
       " 'booster': 'gbtree'}"
      ]
     },
     "execution_count": 19,
     "metadata": {},
     "output_type": "execute_result"
    }
   ],
   "source": [
    "rand_search_cv.best_params_"
   ]
  },
  {
   "cell_type": "code",
   "execution_count": 20,
   "metadata": {},
   "outputs": [],
   "source": [
    "xgb_best = rand_search_cv.best_estimator_"
   ]
  },
  {
   "cell_type": "code",
   "execution_count": 21,
   "metadata": {},
   "outputs": [],
   "source": [
    "y_pred = xgb_best.predict(X_test)"
   ]
  },
  {
   "cell_type": "markdown",
   "metadata": {},
   "source": [
    "Проведем оценку точности нашей модели."
   ]
  },
  {
   "cell_type": "code",
   "execution_count": 22,
   "metadata": {
    "scrolled": true
   },
   "outputs": [
    {
     "data": {
      "text/html": [
       "<div>\n",
       "<style scoped>\n",
       "    .dataframe tbody tr th:only-of-type {\n",
       "        vertical-align: middle;\n",
       "    }\n",
       "\n",
       "    .dataframe tbody tr th {\n",
       "        vertical-align: top;\n",
       "    }\n",
       "\n",
       "    .dataframe thead th {\n",
       "        text-align: right;\n",
       "    }\n",
       "</style>\n",
       "<table border=\"1\" class=\"dataframe\">\n",
       "  <thead>\n",
       "    <tr style=\"text-align: right;\">\n",
       "      <th></th>\n",
       "      <th>XGBRegressor</th>\n",
       "    </tr>\n",
       "  </thead>\n",
       "  <tbody>\n",
       "    <tr>\n",
       "      <td>SMAPE</td>\n",
       "      <td>25.933250</td>\n",
       "    </tr>\n",
       "    <tr>\n",
       "      <td>MAE</td>\n",
       "      <td>617.073877</td>\n",
       "    </tr>\n",
       "    <tr>\n",
       "      <td>MRE</td>\n",
       "      <td>0.447551</td>\n",
       "    </tr>\n",
       "    <tr>\n",
       "      <td>R2</td>\n",
       "      <td>0.869154</td>\n",
       "    </tr>\n",
       "  </tbody>\n",
       "</table>\n",
       "</div>"
      ],
      "text/plain": [
       "       XGBRegressor\n",
       "SMAPE     25.933250\n",
       "MAE      617.073877\n",
       "MRE        0.447551\n",
       "R2         0.869154"
      ]
     },
     "execution_count": 22,
     "metadata": {},
     "output_type": "execute_result"
    }
   ],
   "source": [
    "score = pd.DataFrame()\n",
    "score['XGBRegressor'] = [SMAPE(y_test, y_pred),\n",
    "                             mean_absolute_error(y_test, y_pred),\n",
    "                             MRE(y_test, y_pred),\n",
    "                             r2_score(y_test, y_pred)]\n",
    "score.index = ['SMAPE', 'MAE', 'MRE', 'R2']\n",
    "score"
   ]
  },
  {
   "cell_type": "code",
   "execution_count": 23,
   "metadata": {},
   "outputs": [
    {
     "data": {
      "text/plain": [
       "<matplotlib.axes._subplots.AxesSubplot at 0x7fcc34c0def0>"
      ]
     },
     "execution_count": 23,
     "metadata": {},
     "output_type": "execute_result"
    },
    {
     "data": {
      "image/png": "[encoded data removed]",
      "text/plain": [
       "<Figure size 1296x432 with 1 Axes>"
      ]
     },
     "metadata": {
      "needs_background": "light"
     },
     "output_type": "display_data"
    }
   ],
   "source": [
    "f = plt.figure(figsize=(18, 6))\n",
    "sns.set(style=\"whitegrid\")\n",
    "sns.lineplot(x=range(len(y_pred)), y=y_pred, label='True Volume')\n",
    "sns.lineplot(x=range(len(y_pred)), y=y_test, label='Predicted Volume')"
   ]
  },
  {
   "cell_type": "markdown",
   "metadata": {},
   "source": [
    "Видно, что график предсказанных значений довольно неплохо повторяет истинные значения."
   ]
  },
  {
   "cell_type": "markdown",
   "metadata": {},
   "source": [
    "Посмотрим также на распределение остатков."
   ]
  },
  {
   "cell_type": "code",
   "execution_count": 24,
   "metadata": {},
   "outputs": [
    {
     "name": "stderr",
     "output_type": "stream",
     "text": [
      "/home/gleb/.local/lib/python3.6/site-packages/ipykernel_launcher.py:4: UserWarning: Matplotlib is currently using module://ipykernel.pylab.backend_inline, which is a non-GUI backend, so cannot show the figure.\n",
      "  after removing the cwd from sys.path.\n"
     ]
    },
    {
     "data": {
      "image/png": "[encoded data removed]",
      "text/plain": [
       "<Figure size 1296x432 with 2 Axes>"
      ]
     },
     "metadata": {},
     "output_type": "display_data"
    }
   ],
   "source": [
    "fig, ax =plt.subplots(1,2, figsize=(18, 6))\n",
    "sns.scatterplot(x=range(len(y_pred)), y=(y_pred-y_test.rename('delta_volume')), color=\"g\",ax=ax[0])\n",
    "sns.distplot((y_pred-y_test.rename('delta_volume')), color='g', ax=ax[1])\n",
    "fig.show()"
   ]
  },
  {
   "cell_type": "code",
   "execution_count": 25,
   "metadata": {},
   "outputs": [
    {
     "name": "stdout",
     "output_type": "stream",
     "text": [
      "Заметим, что распределение объемов продаж близко к нормальному со средним значением 32.89 и стандартным отклонением 999.49\n"
     ]
    }
   ],
   "source": [
    "print(\"Заметим, что распределение объемов продаж близко к нормальному со средним значением %.2f и стандартным отклонением %.2f\"\\\n",
    "      %((y_pred-y_test).mean(), (y_pred-y_test).std()))"
   ]
  },
  {
   "cell_type": "markdown",
   "metadata": {},
   "source": [
    "Посмотрим на **топ 10 важных критериев** для нашей модели."
   ]
  },
  {
   "cell_type": "code",
   "execution_count": 26,
   "metadata": {},
   "outputs": [
    {
     "data": {
      "text/plain": [
       "<matplotlib.axes._subplots.AxesSubplot at 0x7fcc34ce8d30>"
      ]
     },
     "execution_count": 26,
     "metadata": {},
     "output_type": "execute_result"
    },
    {
     "data": {
      "image/png": "[encoded data removed]",
      "text/plain": [
       "<Figure size 432x288 with 1 Axes>"
      ]
     },
     "metadata": {},
     "output_type": "display_data"
    }
   ],
   "source": [
    "importances = pd.DataFrame(data=xgb_best.feature_importances_).T\n",
    "importances.columns=X_to_pred.columns\n",
    "sns.barplot(data=importances.sort_values(by=0, axis=1, ascending=False).iloc[:, :10], orient='h', color='g')"
   ]
  },
  {
   "cell_type": "markdown",
   "metadata": {},
   "source": [
    "Видим, что цена идет на шестом месте по важности. И ее важность составляет:"
   ]
  },
  {
   "cell_type": "code",
   "execution_count": 27,
   "metadata": {},
   "outputs": [
    {
     "name": "stdout",
     "output_type": "stream",
     "text": [
      "важность цены 5.2%\n"
     ]
    }
   ],
   "source": [
    "print('важность цены %.1f%%' %(importances.price*100))"
   ]
  },
  {
   "cell_type": "markdown",
   "metadata": {},
   "source": [
    "## Подготовим ответ для превого задания"
   ]
  },
  {
   "cell_type": "code",
   "execution_count": 28,
   "metadata": {},
   "outputs": [],
   "source": [
    "def decode(DataFrame):\n",
    "    for i in DataFrame:\n",
    "        if i in category_dictionary:\n",
    "            DataFrame[i] = DataFrame[i].map(lambda x: category_dictionary[i][x])"
   ]
  },
  {
   "cell_type": "code",
   "execution_count": 29,
   "metadata": {},
   "outputs": [],
   "source": [
    "answer = X_to_pred[['month_n', 'ira', 'sku_id', 'price']].reset_index(drop=True)"
   ]
  },
  {
   "cell_type": "code",
   "execution_count": 30,
   "metadata": {},
   "outputs": [],
   "source": [
    "decode(answer)"
   ]
  },
  {
   "cell_type": "code",
   "execution_count": 31,
   "metadata": {},
   "outputs": [],
   "source": [
    "answer['year'] = answer.month_n // 12 + 2017"
   ]
  },
  {
   "cell_type": "code",
   "execution_count": 32,
   "metadata": {},
   "outputs": [],
   "source": [
    "answer['month'] = answer.month_n - 24"
   ]
  },
  {
   "cell_type": "code",
   "execution_count": 33,
   "metadata": {},
   "outputs": [],
   "source": [
    "answer['location'] = answer.ira.map(lambda x: locations[x])"
   ]
  },
  {
   "cell_type": "code",
   "execution_count": 34,
   "metadata": {},
   "outputs": [],
   "source": [
    "answer = answer[['year', 'month', 'location', 'sku_id', 'price']]"
   ]
  },
  {
   "cell_type": "code",
   "execution_count": 35,
   "metadata": {},
   "outputs": [],
   "source": [
    "answer.price *= price_std\n",
    "answer.price += price_mean"
   ]
  },
  {
   "cell_type": "code",
   "execution_count": 36,
   "metadata": {},
   "outputs": [],
   "source": [
    "answer['volume'] = xgb_best.predict(X_to_pred)\n",
    "answer['revenue'] = answer.price * answer.volume"
   ]
  },
  {
   "cell_type": "code",
   "execution_count": 37,
   "metadata": {},
   "outputs": [
    {
     "data": {
      "text/html": [
       "<div>\n",
       "<style scoped>\n",
       "    .dataframe tbody tr th:only-of-type {\n",
       "        vertical-align: middle;\n",
       "    }\n",
       "\n",
       "    .dataframe tbody tr th {\n",
       "        vertical-align: top;\n",
       "    }\n",
       "\n",
       "    .dataframe thead th {\n",
       "        text-align: right;\n",
       "    }\n",
       "</style>\n",
       "<table border=\"1\" class=\"dataframe\">\n",
       "  <thead>\n",
       "    <tr style=\"text-align: right;\">\n",
       "      <th></th>\n",
       "      <th>year</th>\n",
       "      <th>month</th>\n",
       "      <th>location</th>\n",
       "      <th>sku_id</th>\n",
       "      <th>price</th>\n",
       "      <th>volume</th>\n",
       "      <th>revenue</th>\n",
       "    </tr>\n",
       "  </thead>\n",
       "  <tbody>\n",
       "    <tr>\n",
       "      <td>0</td>\n",
       "      <td>2019</td>\n",
       "      <td>7</td>\n",
       "      <td>Alpha City</td>\n",
       "      <td>sku #79</td>\n",
       "      <td>1.276421</td>\n",
       "      <td>15627.979492</td>\n",
       "      <td>19947.875347</td>\n",
       "    </tr>\n",
       "    <tr>\n",
       "      <td>1</td>\n",
       "      <td>2019</td>\n",
       "      <td>7</td>\n",
       "      <td>Alpha City</td>\n",
       "      <td>sku #106</td>\n",
       "      <td>1.339091</td>\n",
       "      <td>4143.246582</td>\n",
       "      <td>5548.183532</td>\n",
       "    </tr>\n",
       "    <tr>\n",
       "      <td>2</td>\n",
       "      <td>2019</td>\n",
       "      <td>7</td>\n",
       "      <td>Alpha City</td>\n",
       "      <td>sku #15</td>\n",
       "      <td>1.339091</td>\n",
       "      <td>16937.308594</td>\n",
       "      <td>22680.594736</td>\n",
       "    </tr>\n",
       "    <tr>\n",
       "      <td>3</td>\n",
       "      <td>2019</td>\n",
       "      <td>7</td>\n",
       "      <td>Alpha City</td>\n",
       "      <td>sku #16</td>\n",
       "      <td>3.414728</td>\n",
       "      <td>8817.326172</td>\n",
       "      <td>30108.772833</td>\n",
       "    </tr>\n",
       "    <tr>\n",
       "      <td>4</td>\n",
       "      <td>2019</td>\n",
       "      <td>7</td>\n",
       "      <td>Alpha City</td>\n",
       "      <td>sku #22</td>\n",
       "      <td>2.412005</td>\n",
       "      <td>17023.648438</td>\n",
       "      <td>41061.122863</td>\n",
       "    </tr>\n",
       "    <tr>\n",
       "      <td>...</td>\n",
       "      <td>...</td>\n",
       "      <td>...</td>\n",
       "      <td>...</td>\n",
       "      <td>...</td>\n",
       "      <td>...</td>\n",
       "      <td>...</td>\n",
       "      <td>...</td>\n",
       "    </tr>\n",
       "    <tr>\n",
       "      <td>169</td>\n",
       "      <td>2019</td>\n",
       "      <td>9</td>\n",
       "      <td>Pirate Bay</td>\n",
       "      <td>sku #78</td>\n",
       "      <td>1.354132</td>\n",
       "      <td>527.727600</td>\n",
       "      <td>714.612666</td>\n",
       "    </tr>\n",
       "    <tr>\n",
       "      <td>170</td>\n",
       "      <td>2019</td>\n",
       "      <td>9</td>\n",
       "      <td>Pirate Bay</td>\n",
       "      <td>sku #100</td>\n",
       "      <td>1.316530</td>\n",
       "      <td>1415.136719</td>\n",
       "      <td>1863.069322</td>\n",
       "    </tr>\n",
       "    <tr>\n",
       "      <td>171</td>\n",
       "      <td>2019</td>\n",
       "      <td>9</td>\n",
       "      <td>Pirate Bay</td>\n",
       "      <td>sku #76</td>\n",
       "      <td>1.316530</td>\n",
       "      <td>3310.286133</td>\n",
       "      <td>4358.089547</td>\n",
       "    </tr>\n",
       "    <tr>\n",
       "      <td>172</td>\n",
       "      <td>2019</td>\n",
       "      <td>9</td>\n",
       "      <td>Pirate Bay</td>\n",
       "      <td>sku #77</td>\n",
       "      <td>1.316530</td>\n",
       "      <td>3657.824707</td>\n",
       "      <td>4815.634354</td>\n",
       "    </tr>\n",
       "    <tr>\n",
       "      <td>173</td>\n",
       "      <td>2019</td>\n",
       "      <td>9</td>\n",
       "      <td>Pirate Bay</td>\n",
       "      <td>sku #97</td>\n",
       "      <td>1.316530</td>\n",
       "      <td>5210.459961</td>\n",
       "      <td>6859.724562</td>\n",
       "    </tr>\n",
       "  </tbody>\n",
       "</table>\n",
       "<p>174 rows × 7 columns</p>\n",
       "</div>"
      ],
      "text/plain": [
       "     year  month    location    sku_id     price        volume       revenue\n",
       "0    2019      7  Alpha City   sku #79  1.276421  15627.979492  19947.875347\n",
       "1    2019      7  Alpha City  sku #106  1.339091   4143.246582   5548.183532\n",
       "2    2019      7  Alpha City   sku #15  1.339091  16937.308594  22680.594736\n",
       "3    2019      7  Alpha City   sku #16  3.414728   8817.326172  30108.772833\n",
       "4    2019      7  Alpha City   sku #22  2.412005  17023.648438  41061.122863\n",
       "..    ...    ...         ...       ...       ...           ...           ...\n",
       "169  2019      9  Pirate Bay   sku #78  1.354132    527.727600    714.612666\n",
       "170  2019      9  Pirate Bay  sku #100  1.316530   1415.136719   1863.069322\n",
       "171  2019      9  Pirate Bay   sku #76  1.316530   3310.286133   4358.089547\n",
       "172  2019      9  Pirate Bay   sku #77  1.316530   3657.824707   4815.634354\n",
       "173  2019      9  Pirate Bay   sku #97  1.316530   5210.459961   6859.724562\n",
       "\n",
       "[174 rows x 7 columns]"
      ]
     },
     "execution_count": 37,
     "metadata": {},
     "output_type": "execute_result"
    }
   ],
   "source": [
    "answer"
   ]
  },
  {
   "cell_type": "markdown",
   "metadata": {},
   "source": [
    "**Запишем ответ в .tsv файл.**"
   ]
  },
  {
   "cell_type": "code",
   "execution_count": 38,
   "metadata": {},
   "outputs": [],
   "source": [
    "answer.drop(columns=['price', 'revenue']).to_csv('Answer_volume.tsv', sep='\\t', index=False)"
   ]
  },
  {
   "cell_type": "markdown",
   "metadata": {},
   "source": [
    "## Решим вотрую задачу"
   ]
  },
  {
   "cell_type": "markdown",
   "metadata": {},
   "source": [
    "Подберем для каждого товара в каждом регионе цену, позволяющую получить наибольшую выручку."
   ]
  },
  {
   "cell_type": "markdown",
   "metadata": {},
   "source": [
    "К сожалению, у нас нет явной функциональной зависимости между ценой и объемом продаж, поэтому задачу придется решать перебором.\n",
    "\n",
    "Для каждого товара в каждом регионе разобьем диапазон 85% - 115% цены на 1000 точек, для каждой сделаем отдельное предсказание нашей моделью и найдем такую цену, которая обеспецивает максимальную выручку."
   ]
  },
  {
   "cell_type": "code",
   "execution_count": 39,
   "metadata": {},
   "outputs": [],
   "source": [
    "x = X_to_pred.reset_index(drop=True).copy()\n",
    "\n",
    "best_revenues = answer.revenue.copy()\n",
    "best_prices = (x.price.copy() * price_std + price_mean)\n",
    "best_volumes = answer.volume.copy()\n",
    "\n",
    "initial_price = (x.price.copy() * price_std + price_mean)\n",
    "\n",
    "for k in np.linspace(0.85, 1.15, 1000):\n",
    "    \n",
    "    price = k * initial_price\n",
    "    x.price = (price - price_mean) / price_std\n",
    "    \n",
    "    new_volume = xgb_best.predict(x)\n",
    "    new_revenue = (new_volume * price)\n",
    "      \n",
    "    best_prices = (new_revenue > best_revenues) * price +\\\n",
    "                  (new_revenue <= best_revenues) * best_prices\n",
    "    \n",
    "    best_volumes = (new_revenue > best_revenues) * new_volume +\\\n",
    "                   (new_revenue <= best_revenues) * best_volumes\n",
    "    \n",
    "    best_revenues = best_prices * best_volumes\n",
    "    \n",
    "    \n",
    "    "
   ]
  },
  {
   "cell_type": "code",
   "execution_count": 40,
   "metadata": {},
   "outputs": [],
   "source": [
    "answer['new_price'] = best_prices\n",
    "answer['new_volume'] = best_volumes\n",
    "answer['best_revenue'] = best_revenues"
   ]
  },
  {
   "cell_type": "code",
   "execution_count": 41,
   "metadata": {},
   "outputs": [
    {
     "data": {
      "text/html": [
       "<div>\n",
       "<style scoped>\n",
       "    .dataframe tbody tr th:only-of-type {\n",
       "        vertical-align: middle;\n",
       "    }\n",
       "\n",
       "    .dataframe tbody tr th {\n",
       "        vertical-align: top;\n",
       "    }\n",
       "\n",
       "    .dataframe thead th {\n",
       "        text-align: right;\n",
       "    }\n",
       "</style>\n",
       "<table border=\"1\" class=\"dataframe\">\n",
       "  <thead>\n",
       "    <tr style=\"text-align: right;\">\n",
       "      <th></th>\n",
       "      <th>year</th>\n",
       "      <th>month</th>\n",
       "      <th>location</th>\n",
       "      <th>sku_id</th>\n",
       "      <th>price</th>\n",
       "      <th>volume</th>\n",
       "      <th>revenue</th>\n",
       "      <th>new_price</th>\n",
       "      <th>new_volume</th>\n",
       "      <th>best_revenue</th>\n",
       "    </tr>\n",
       "  </thead>\n",
       "  <tbody>\n",
       "    <tr>\n",
       "      <td>0</td>\n",
       "      <td>2019</td>\n",
       "      <td>7</td>\n",
       "      <td>Alpha City</td>\n",
       "      <td>sku #79</td>\n",
       "      <td>1.276421</td>\n",
       "      <td>15627.979492</td>\n",
       "      <td>19947.875347</td>\n",
       "      <td>1.467884</td>\n",
       "      <td>15114.247070</td>\n",
       "      <td>22185.957191</td>\n",
       "    </tr>\n",
       "    <tr>\n",
       "      <td>1</td>\n",
       "      <td>2019</td>\n",
       "      <td>7</td>\n",
       "      <td>Alpha City</td>\n",
       "      <td>sku #106</td>\n",
       "      <td>1.339091</td>\n",
       "      <td>4143.246582</td>\n",
       "      <td>5548.183532</td>\n",
       "      <td>1.539954</td>\n",
       "      <td>4144.186035</td>\n",
       "      <td>6381.857777</td>\n",
       "    </tr>\n",
       "    <tr>\n",
       "      <td>2</td>\n",
       "      <td>2019</td>\n",
       "      <td>7</td>\n",
       "      <td>Alpha City</td>\n",
       "      <td>sku #15</td>\n",
       "      <td>1.339091</td>\n",
       "      <td>16937.308594</td>\n",
       "      <td>22680.594736</td>\n",
       "      <td>1.346530</td>\n",
       "      <td>16937.308594</td>\n",
       "      <td>22806.598040</td>\n",
       "    </tr>\n",
       "    <tr>\n",
       "      <td>3</td>\n",
       "      <td>2019</td>\n",
       "      <td>7</td>\n",
       "      <td>Alpha City</td>\n",
       "      <td>sku #16</td>\n",
       "      <td>3.414728</td>\n",
       "      <td>8817.326172</td>\n",
       "      <td>30108.772833</td>\n",
       "      <td>3.926937</td>\n",
       "      <td>8817.241211</td>\n",
       "      <td>34624.755121</td>\n",
       "    </tr>\n",
       "    <tr>\n",
       "      <td>4</td>\n",
       "      <td>2019</td>\n",
       "      <td>7</td>\n",
       "      <td>Alpha City</td>\n",
       "      <td>sku #22</td>\n",
       "      <td>2.412005</td>\n",
       "      <td>17023.648438</td>\n",
       "      <td>41061.122863</td>\n",
       "      <td>2.308064</td>\n",
       "      <td>21221.423828</td>\n",
       "      <td>48980.406817</td>\n",
       "    </tr>\n",
       "    <tr>\n",
       "      <td>...</td>\n",
       "      <td>...</td>\n",
       "      <td>...</td>\n",
       "      <td>...</td>\n",
       "      <td>...</td>\n",
       "      <td>...</td>\n",
       "      <td>...</td>\n",
       "      <td>...</td>\n",
       "      <td>...</td>\n",
       "      <td>...</td>\n",
       "      <td>...</td>\n",
       "    </tr>\n",
       "    <tr>\n",
       "      <td>169</td>\n",
       "      <td>2019</td>\n",
       "      <td>9</td>\n",
       "      <td>Pirate Bay</td>\n",
       "      <td>sku #78</td>\n",
       "      <td>1.354132</td>\n",
       "      <td>527.727600</td>\n",
       "      <td>714.612666</td>\n",
       "      <td>1.283579</td>\n",
       "      <td>627.753906</td>\n",
       "      <td>805.771468</td>\n",
       "    </tr>\n",
       "    <tr>\n",
       "      <td>170</td>\n",
       "      <td>2019</td>\n",
       "      <td>9</td>\n",
       "      <td>Pirate Bay</td>\n",
       "      <td>sku #100</td>\n",
       "      <td>1.316530</td>\n",
       "      <td>1415.136719</td>\n",
       "      <td>1863.069322</td>\n",
       "      <td>1.514009</td>\n",
       "      <td>1369.723877</td>\n",
       "      <td>2073.774270</td>\n",
       "    </tr>\n",
       "    <tr>\n",
       "      <td>171</td>\n",
       "      <td>2019</td>\n",
       "      <td>9</td>\n",
       "      <td>Pirate Bay</td>\n",
       "      <td>sku #76</td>\n",
       "      <td>1.316530</td>\n",
       "      <td>3310.286133</td>\n",
       "      <td>4358.089547</td>\n",
       "      <td>1.514009</td>\n",
       "      <td>3467.655762</td>\n",
       "      <td>5250.062013</td>\n",
       "    </tr>\n",
       "    <tr>\n",
       "      <td>172</td>\n",
       "      <td>2019</td>\n",
       "      <td>9</td>\n",
       "      <td>Pirate Bay</td>\n",
       "      <td>sku #77</td>\n",
       "      <td>1.316530</td>\n",
       "      <td>3657.824707</td>\n",
       "      <td>4815.634354</td>\n",
       "      <td>1.514009</td>\n",
       "      <td>3754.447998</td>\n",
       "      <td>5684.268038</td>\n",
       "    </tr>\n",
       "    <tr>\n",
       "      <td>173</td>\n",
       "      <td>2019</td>\n",
       "      <td>9</td>\n",
       "      <td>Pirate Bay</td>\n",
       "      <td>sku #97</td>\n",
       "      <td>1.316530</td>\n",
       "      <td>5210.459961</td>\n",
       "      <td>6859.724562</td>\n",
       "      <td>1.514009</td>\n",
       "      <td>5353.206055</td>\n",
       "      <td>8104.802116</td>\n",
       "    </tr>\n",
       "  </tbody>\n",
       "</table>\n",
       "<p>174 rows × 10 columns</p>\n",
       "</div>"
      ],
      "text/plain": [
       "     year  month    location    sku_id     price        volume       revenue  \\\n",
       "0    2019      7  Alpha City   sku #79  1.276421  15627.979492  19947.875347   \n",
       "1    2019      7  Alpha City  sku #106  1.339091   4143.246582   5548.183532   \n",
       "2    2019      7  Alpha City   sku #15  1.339091  16937.308594  22680.594736   \n",
       "3    2019      7  Alpha City   sku #16  3.414728   8817.326172  30108.772833   \n",
       "4    2019      7  Alpha City   sku #22  2.412005  17023.648438  41061.122863   \n",
       "..    ...    ...         ...       ...       ...           ...           ...   \n",
       "169  2019      9  Pirate Bay   sku #78  1.354132    527.727600    714.612666   \n",
       "170  2019      9  Pirate Bay  sku #100  1.316530   1415.136719   1863.069322   \n",
       "171  2019      9  Pirate Bay   sku #76  1.316530   3310.286133   4358.089547   \n",
       "172  2019      9  Pirate Bay   sku #77  1.316530   3657.824707   4815.634354   \n",
       "173  2019      9  Pirate Bay   sku #97  1.316530   5210.459961   6859.724562   \n",
       "\n",
       "     new_price    new_volume  best_revenue  \n",
       "0     1.467884  15114.247070  22185.957191  \n",
       "1     1.539954   4144.186035   6381.857777  \n",
       "2     1.346530  16937.308594  22806.598040  \n",
       "3     3.926937   8817.241211  34624.755121  \n",
       "4     2.308064  21221.423828  48980.406817  \n",
       "..         ...           ...           ...  \n",
       "169   1.283579    627.753906    805.771468  \n",
       "170   1.514009   1369.723877   2073.774270  \n",
       "171   1.514009   3467.655762   5250.062013  \n",
       "172   1.514009   3754.447998   5684.268038  \n",
       "173   1.514009   5353.206055   8104.802116  \n",
       "\n",
       "[174 rows x 10 columns]"
      ]
     },
     "execution_count": 41,
     "metadata": {},
     "output_type": "execute_result"
    }
   ],
   "source": [
    "answer"
   ]
  },
  {
   "cell_type": "markdown",
   "metadata": {},
   "source": [
    "**Убедимся, что выручка во всех примерах выросла.**"
   ]
  },
  {
   "cell_type": "code",
   "execution_count": 42,
   "metadata": {},
   "outputs": [
    {
     "data": {
      "text/plain": [
       "174"
      ]
     },
     "execution_count": 42,
     "metadata": {},
     "output_type": "execute_result"
    }
   ],
   "source": [
    "(answer.best_revenue > answer.revenue).sum()"
   ]
  },
  {
   "cell_type": "code",
   "execution_count": 43,
   "metadata": {},
   "outputs": [
    {
     "name": "stdout",
     "output_type": "stream",
     "text": [
      "Цена товара была увеличена в 70.7% случаев\n"
     ]
    }
   ],
   "source": [
    "print('Цена товара была увеличена в %.1f%% случаев' %((answer.new_price > answer.price).sum()/174*100))"
   ]
  },
  {
   "cell_type": "code",
   "execution_count": 44,
   "metadata": {},
   "outputs": [
    {
     "name": "stdout",
     "output_type": "stream",
     "text": [
      "Объем продаж был увеличен в 58.6% случаев\n"
     ]
    }
   ],
   "source": [
    "print('Объем продаж был увеличен в %.1f%% случаев' %((answer.new_volume > answer.volume).sum()/174*100))"
   ]
  },
  {
   "cell_type": "markdown",
   "metadata": {},
   "source": [
    "Интересно заметить, что имеются такие случаи, когда увеличение цены ведет к увеличению предсказываемого объема продаж, что не совсем вяжется с логикой."
   ]
  },
  {
   "cell_type": "markdown",
   "metadata": {},
   "source": [
    "**Посмотрим на суммарное увеличение выручки.**"
   ]
  },
  {
   "cell_type": "code",
   "execution_count": 45,
   "metadata": {},
   "outputs": [
    {
     "name": "stdout",
     "output_type": "stream",
     "text": [
      "Выручка без изменения цены 1351308\n"
     ]
    }
   ],
   "source": [
    "print('Выручка без изменения цены %.f' %answer.revenue.sum())"
   ]
  },
  {
   "cell_type": "code",
   "execution_count": 46,
   "metadata": {},
   "outputs": [
    {
     "name": "stdout",
     "output_type": "stream",
     "text": [
      "Выручка с изменением цены 1562484\n"
     ]
    }
   ],
   "source": [
    "print('Выручка с изменением цены %.f' %answer.best_revenue.sum())"
   ]
  },
  {
   "cell_type": "code",
   "execution_count": 47,
   "metadata": {},
   "outputs": [
    {
     "name": "stdout",
     "output_type": "stream",
     "text": [
      "Изменение составляет 15.63%\n"
     ]
    }
   ],
   "source": [
    "print('Изменение составляет %.2f%%' %(100*(answer.best_revenue.sum()-answer.revenue.sum())/answer.revenue.sum()))"
   ]
  },
  {
   "cell_type": "markdown",
   "metadata": {},
   "source": [
    "## Теперь нужно убедиться, что рост выручки получен не случайно"
   ]
  },
  {
   "cell_type": "code",
   "execution_count": 48,
   "metadata": {},
   "outputs": [
    {
     "name": "stdout",
     "output_type": "stream",
     "text": [
      "Среднее абсолютное относительное изменение выручки составляет 23.922%\n"
     ]
    }
   ],
   "source": [
    "print('Среднее абсолютное относительное изменение выручки составляет %.3f%%'\\\n",
    "      %(abs(answer.best_revenue - answer.revenue)/answer.revenue*100).mean())"
   ]
  },
  {
   "cell_type": "markdown",
   "metadata": {},
   "source": [
    "А теперь уберем отсюда \"абсолютное\""
   ]
  },
  {
   "cell_type": "code",
   "execution_count": 49,
   "metadata": {},
   "outputs": [
    {
     "name": "stdout",
     "output_type": "stream",
     "text": [
      "Среднее относительное изменение выручки составляет 23.922%\n"
     ]
    }
   ],
   "source": [
    "print('Среднее относительное изменение выручки составляет %.3f%%'\\\n",
    "      %((answer.best_revenue - answer.revenue)/answer.revenue*100).mean())"
   ]
  },
  {
   "cell_type": "markdown",
   "metadata": {},
   "source": [
    "Равенство полученных значений говорит нам о том, что во всех случаях выручка растет и растет в среднем на приведенное выше количество процентов."
   ]
  },
  {
   "cell_type": "markdown",
   "metadata": {},
   "source": [
    "**Для еще большей уверенности, подойдем к этому вопросу с точки зрения статистики.**"
   ]
  },
  {
   "cell_type": "markdown",
   "metadata": {},
   "source": [
    "Попытаемся воспользоваться t-тестом, где нулеваяя гипотеза - отличия в выручке получились случайно. \n",
    "\n",
    "Для этого неопходима гомогенность дисперсий. Проверить ее нам поможет тест Левена:"
   ]
  },
  {
   "cell_type": "code",
   "execution_count": 50,
   "metadata": {},
   "outputs": [],
   "source": [
    "import scipy.stats as stats"
   ]
  },
  {
   "cell_type": "code",
   "execution_count": 51,
   "metadata": {},
   "outputs": [
    {
     "data": {
      "text/plain": [
       "LeveneResult(statistic=0.9548886972379803, pvalue=0.3291607540830277)"
      ]
     },
     "execution_count": 51,
     "metadata": {},
     "output_type": "execute_result"
    }
   ],
   "source": [
    "stats.levene(answer.best_revenue, answer.revenue)"
   ]
  },
  {
   "cell_type": "markdown",
   "metadata": {},
   "source": [
    "Как видим, p-уровень значимости = 0.33, значит условие гомогенности дисперсий выполняется."
   ]
  },
  {
   "cell_type": "markdown",
   "metadata": {},
   "source": [
    "Не смотря на то, что для больших выборок (больше 30 наблюдений) нормальность распределений перестает быть необходимым условием качественного t-теста, посмотрим на распределения выручек до и после изменения цен."
   ]
  },
  {
   "cell_type": "code",
   "execution_count": 52,
   "metadata": {},
   "outputs": [
    {
     "name": "stderr",
     "output_type": "stream",
     "text": [
      "/home/gleb/.local/lib/python3.6/site-packages/ipykernel_launcher.py:4: UserWarning: Matplotlib is currently using module://ipykernel.pylab.backend_inline, which is a non-GUI backend, so cannot show the figure.\n",
      "  after removing the cwd from sys.path.\n"
     ]
    },
    {
     "data": {
      "image/png": "[encoded data removed]",
      "text/plain": [
       "<Figure size 1296x432 with 2 Axes>"
      ]
     },
     "metadata": {},
     "output_type": "display_data"
    }
   ],
   "source": [
    "fig, ax =plt.subplots(1,2, figsize=(18, 6))\n",
    "sns.distplot(answer.revenue, color='b', ax=ax[0], kde=False)\n",
    "sns.distplot(answer.best_revenue, color='g', ax=ax[1], kde=False)\n",
    "fig.show()"
   ]
  },
  {
   "cell_type": "markdown",
   "metadata": {},
   "source": [
    "Как и ожидалось, они не нормальные.\n",
    "\n",
    "Проведем t-тест."
   ]
  },
  {
   "cell_type": "code",
   "execution_count": 53,
   "metadata": {},
   "outputs": [
    {
     "name": "stdout",
     "output_type": "stream",
     "text": [
      "Вероятность получить такое же или еще большее отличие при условии, что верна нулевая гипотеза p_value = 1.6e-16\n"
     ]
    }
   ],
   "source": [
    "print('Вероятность получить такое же или еще большее отличие при условии, что верна нулевая гипотеза p_value = %.1e'\\\n",
    "%stats.ttest_rel(answer.best_revenue, answer.revenue)[1])"
   ]
  },
  {
   "cell_type": "markdown",
   "metadata": {},
   "source": [
    "Что позволяет нам смело откинуть предположение о том, что рост выручки получен случайно."
   ]
  },
  {
   "cell_type": "code",
   "execution_count": null,
   "metadata": {},
   "outputs": [],
   "source": []
  }
 ],
 "metadata": {
  "kernelspec": {
   "display_name": "Python 3",
   "language": "python",
   "name": "python3"
  },
  "language_info": {
   "codemirror_mode": {
    "name": "ipython",
    "version": 3
   },
   "file_extension": ".py",
   "mimetype": "text/x-python",
   "name": "python",
   "nbconvert_exporter": "python",
   "pygments_lexer": "ipython3",
   "version": "3.6.8"
  }
 },
 "nbformat": 4,
 "nbformat_minor": 2
}
