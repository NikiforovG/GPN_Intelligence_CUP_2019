{
 "cells": [
  {
   "cell_type": "markdown",
   "metadata": {},
   "source": [
    "# GPN Intelligence CUP\n",
    "## Продвинутая аналитика"
   ]
  },
  {
   "cell_type": "markdown",
   "metadata": {},
   "source": [
    "### Выполнил Никифоров Глеб Владиславович"
   ]
  },
  {
   "cell_type": "markdown",
   "metadata": {},
   "source": [
    "Импортируем необходимые библиотеки"
   ]
  },
  {
   "cell_type": "code",
   "execution_count": 1,
   "metadata": {},
   "outputs": [],
   "source": [
    "import numpy as np\n",
    "import pandas as pd"
   ]
  },
  {
   "cell_type": "code",
   "execution_count": 2,
   "metadata": {},
   "outputs": [],
   "source": [
    "%matplotlib inline\n",
    "import matplotlib.pyplot as plt\n",
    "import seaborn as sns"
   ]
  },
  {
   "cell_type": "markdown",
   "metadata": {},
   "source": [
    "Читаем данные"
   ]
  },
  {
   "cell_type": "code",
   "execution_count": 3,
   "metadata": {},
   "outputs": [],
   "source": [
    "customers = pd.read_csv('customers.tsv', sep='\\t')\n",
    "sales = pd.read_csv('sales.tsv', sep='\\t')"
   ]
  },
  {
   "cell_type": "code",
   "execution_count": 4,
   "metadata": {},
   "outputs": [
    {
     "data": {
      "text/html": [
       "<div>\n",
       "<style scoped>\n",
       "    .dataframe tbody tr th:only-of-type {\n",
       "        vertical-align: middle;\n",
       "    }\n",
       "\n",
       "    .dataframe tbody tr th {\n",
       "        vertical-align: top;\n",
       "    }\n",
       "\n",
       "    .dataframe thead th {\n",
       "        text-align: right;\n",
       "    }\n",
       "</style>\n",
       "<table border=\"1\" class=\"dataframe\">\n",
       "  <thead>\n",
       "    <tr style=\"text-align: right;\">\n",
       "      <th></th>\n",
       "      <th>year</th>\n",
       "      <th>month</th>\n",
       "      <th>ira</th>\n",
       "      <th>customers_type</th>\n",
       "      <th>amount_of_customers</th>\n",
       "    </tr>\n",
       "  </thead>\n",
       "  <tbody>\n",
       "    <tr>\n",
       "      <td>0</td>\n",
       "      <td>2017</td>\n",
       "      <td>1</td>\n",
       "      <td>AC</td>\n",
       "      <td>Archer</td>\n",
       "      <td>679.0</td>\n",
       "    </tr>\n",
       "    <tr>\n",
       "      <td>1</td>\n",
       "      <td>2017</td>\n",
       "      <td>1</td>\n",
       "      <td>AC</td>\n",
       "      <td>Monk</td>\n",
       "      <td>1070.0</td>\n",
       "    </tr>\n",
       "    <tr>\n",
       "      <td>2</td>\n",
       "      <td>2017</td>\n",
       "      <td>1</td>\n",
       "      <td>AC</td>\n",
       "      <td>Dwarf</td>\n",
       "      <td>610.0</td>\n",
       "    </tr>\n",
       "  </tbody>\n",
       "</table>\n",
       "</div>"
      ],
      "text/plain": [
       "   year  month ira customers_type  amount_of_customers\n",
       "0  2017      1  AC         Archer                679.0\n",
       "1  2017      1  AC           Monk               1070.0\n",
       "2  2017      1  AC          Dwarf                610.0"
      ]
     },
     "execution_count": 4,
     "metadata": {},
     "output_type": "execute_result"
    }
   ],
   "source": [
    "customers.head(3)"
   ]
  },
  {
   "cell_type": "code",
   "execution_count": 5,
   "metadata": {},
   "outputs": [
    {
     "data": {
      "text/html": [
       "<div>\n",
       "<style scoped>\n",
       "    .dataframe tbody tr th:only-of-type {\n",
       "        vertical-align: middle;\n",
       "    }\n",
       "\n",
       "    .dataframe tbody tr th {\n",
       "        vertical-align: top;\n",
       "    }\n",
       "\n",
       "    .dataframe thead th {\n",
       "        text-align: right;\n",
       "    }\n",
       "</style>\n",
       "<table border=\"1\" class=\"dataframe\">\n",
       "  <thead>\n",
       "    <tr style=\"text-align: right;\">\n",
       "      <th></th>\n",
       "      <th>year</th>\n",
       "      <th>month</th>\n",
       "      <th>location</th>\n",
       "      <th>ira</th>\n",
       "      <th>product_category</th>\n",
       "      <th>brand</th>\n",
       "      <th>sku_id</th>\n",
       "      <th>item_per_bundle</th>\n",
       "      <th>shape</th>\n",
       "      <th>with_alcohol</th>\n",
       "      <th>filling</th>\n",
       "      <th>volume</th>\n",
       "      <th>price</th>\n",
       "    </tr>\n",
       "  </thead>\n",
       "  <tbody>\n",
       "    <tr>\n",
       "      <td>0</td>\n",
       "      <td>2017</td>\n",
       "      <td>1</td>\n",
       "      <td>Alpha City</td>\n",
       "      <td>AC</td>\n",
       "      <td>Chocolates</td>\n",
       "      <td>Cadbury</td>\n",
       "      <td>sku #79</td>\n",
       "      <td>1</td>\n",
       "      <td>Standart</td>\n",
       "      <td>No</td>\n",
       "      <td>Nothing</td>\n",
       "      <td>4572.0</td>\n",
       "      <td>NaN</td>\n",
       "    </tr>\n",
       "    <tr>\n",
       "      <td>1</td>\n",
       "      <td>2017</td>\n",
       "      <td>1</td>\n",
       "      <td>Alpha City</td>\n",
       "      <td>AC</td>\n",
       "      <td>Chocolates</td>\n",
       "      <td>Ferrero Rocher</td>\n",
       "      <td>sku #15</td>\n",
       "      <td>1</td>\n",
       "      <td>Standart</td>\n",
       "      <td>No</td>\n",
       "      <td>Nothing</td>\n",
       "      <td>8028.0</td>\n",
       "      <td>1.221336</td>\n",
       "    </tr>\n",
       "    <tr>\n",
       "      <td>2</td>\n",
       "      <td>2017</td>\n",
       "      <td>1</td>\n",
       "      <td>Alpha City</td>\n",
       "      <td>AC</td>\n",
       "      <td>Chocolates</td>\n",
       "      <td>Ferrero Rocher</td>\n",
       "      <td>sku #16</td>\n",
       "      <td>3</td>\n",
       "      <td>Standart</td>\n",
       "      <td>No</td>\n",
       "      <td>Nothing</td>\n",
       "      <td>6606.0</td>\n",
       "      <td>2.866401</td>\n",
       "    </tr>\n",
       "  </tbody>\n",
       "</table>\n",
       "</div>"
      ],
      "text/plain": [
       "   year  month    location ira product_category           brand   sku_id  \\\n",
       "0  2017      1  Alpha City  AC       Chocolates         Cadbury  sku #79   \n",
       "1  2017      1  Alpha City  AC       Chocolates  Ferrero Rocher  sku #15   \n",
       "2  2017      1  Alpha City  AC       Chocolates  Ferrero Rocher  sku #16   \n",
       "\n",
       "   item_per_bundle     shape with_alcohol  filling  volume     price  \n",
       "0                1  Standart           No  Nothing  4572.0       NaN  \n",
       "1                1  Standart           No  Nothing  8028.0  1.221336  \n",
       "2                3  Standart           No  Nothing  6606.0  2.866401  "
      ]
     },
     "execution_count": 5,
     "metadata": {},
     "output_type": "execute_result"
    }
   ],
   "source": [
    "sales.head(3)"
   ]
  },
  {
   "cell_type": "markdown",
   "metadata": {},
   "source": [
    "Выкинем из sales колонку location, так как она дублирует колонку ira."
   ]
  },
  {
   "cell_type": "code",
   "execution_count": 6,
   "metadata": {},
   "outputs": [],
   "source": [
    "sales = sales.drop(columns=['location'])"
   ]
  },
  {
   "cell_type": "markdown",
   "metadata": {},
   "source": [
    "## 1. Предварительный анализ данных"
   ]
  },
  {
   "cell_type": "markdown",
   "metadata": {},
   "source": [
    "Проверим наличие пропущенных значений"
   ]
  },
  {
   "cell_type": "code",
   "execution_count": 7,
   "metadata": {},
   "outputs": [
    {
     "data": {
      "text/plain": [
       "price    112\n",
       "dtype: int64"
      ]
     },
     "execution_count": 7,
     "metadata": {},
     "output_type": "execute_result"
    }
   ],
   "source": [
    "null_number = sales.isnull().sum()\n",
    "null_number[null_number!=0]"
   ]
  },
  {
   "cell_type": "code",
   "execution_count": 8,
   "metadata": {},
   "outputs": [
    {
     "data": {
      "text/plain": [
       "Series([], dtype: int64)"
      ]
     },
     "execution_count": 8,
     "metadata": {},
     "output_type": "execute_result"
    }
   ],
   "source": [
    "null_number = customers.isnull().sum()\n",
    "null_number[null_number!=0]"
   ]
  },
  {
   "cell_type": "markdown",
   "metadata": {},
   "source": [
    "#### Вместо года и месяца будем использовать номер месяца считая от января 2017."
   ]
  },
  {
   "cell_type": "code",
   "execution_count": 9,
   "metadata": {},
   "outputs": [],
   "source": [
    "customers['month_n'] = (customers.year - 2017) * 12 + customers.month\n",
    "sales['month_n'] = (sales.year - 2017) * 12 + sales.month"
   ]
  },
  {
   "cell_type": "markdown",
   "metadata": {},
   "source": [
    "#### Проверим, есть ли товары, которые в июне 2019 уже не продаются"
   ]
  },
  {
   "cell_type": "code",
   "execution_count": 10,
   "metadata": {},
   "outputs": [
    {
     "data": {
      "text/plain": [
       "frozenset({'sku #11',\n",
       "           'sku #17',\n",
       "           'sku #27',\n",
       "           'sku #3',\n",
       "           'sku #33',\n",
       "           'sku #34',\n",
       "           'sku #37',\n",
       "           'sku #43',\n",
       "           'sku #44',\n",
       "           'sku #5',\n",
       "           'sku #55',\n",
       "           'sku #60',\n",
       "           'sku #7',\n",
       "           'sku #72',\n",
       "           'sku #81',\n",
       "           'sku #82',\n",
       "           'sku #83',\n",
       "           'sku #84',\n",
       "           'sku #98'})"
      ]
     },
     "execution_count": 10,
     "metadata": {},
     "output_type": "execute_result"
    }
   ],
   "source": [
    "out_of_sale = frozenset(sales.sku_id.unique()) - frozenset(sales[sales.month_n == 30].sku_id.unique())\n",
    "out_of_sale"
   ]
  },
  {
   "cell_type": "markdown",
   "metadata": {},
   "source": [
    "Логично предположить, что и дальше эти товары продаваться не будут, и предсказание для них делать бессмысленно."
   ]
  },
  {
   "cell_type": "code",
   "execution_count": 11,
   "metadata": {},
   "outputs": [
    {
     "data": {
      "text/plain": [
       "43"
      ]
     },
     "execution_count": 11,
     "metadata": {},
     "output_type": "execute_result"
    }
   ],
   "source": [
    "sales.sku_id.nunique()"
   ]
  },
  {
   "cell_type": "markdown",
   "metadata": {
    "scrolled": true
   },
   "source": [
    "#### Проверим также, какие товары в последний месяц продавались не во всех регионах."
   ]
  },
  {
   "cell_type": "code",
   "execution_count": 12,
   "metadata": {},
   "outputs": [
    {
     "data": {
      "text/html": [
       "<div>\n",
       "<style scoped>\n",
       "    .dataframe tbody tr th:only-of-type {\n",
       "        vertical-align: middle;\n",
       "    }\n",
       "\n",
       "    .dataframe tbody tr th {\n",
       "        vertical-align: top;\n",
       "    }\n",
       "\n",
       "    .dataframe thead th {\n",
       "        text-align: right;\n",
       "    }\n",
       "</style>\n",
       "<table border=\"1\" class=\"dataframe\">\n",
       "  <thead>\n",
       "    <tr style=\"text-align: right;\">\n",
       "      <th>ira</th>\n",
       "      <th>sku_id</th>\n",
       "      <th>AC</th>\n",
       "      <th>MN</th>\n",
       "      <th>PB</th>\n",
       "      <th>VL</th>\n",
       "    </tr>\n",
       "  </thead>\n",
       "  <tbody>\n",
       "    <tr>\n",
       "      <td>0</td>\n",
       "      <td>sku #100</td>\n",
       "      <td>1</td>\n",
       "      <td>1</td>\n",
       "      <td>1</td>\n",
       "      <td>0</td>\n",
       "    </tr>\n",
       "    <tr>\n",
       "      <td>1</td>\n",
       "      <td>sku #105</td>\n",
       "      <td>0</td>\n",
       "      <td>0</td>\n",
       "      <td>1</td>\n",
       "      <td>0</td>\n",
       "    </tr>\n",
       "    <tr>\n",
       "      <td>2</td>\n",
       "      <td>sku #106</td>\n",
       "      <td>1</td>\n",
       "      <td>0</td>\n",
       "      <td>1</td>\n",
       "      <td>0</td>\n",
       "    </tr>\n",
       "    <tr>\n",
       "      <td>3</td>\n",
       "      <td>sku #15</td>\n",
       "      <td>1</td>\n",
       "      <td>0</td>\n",
       "      <td>1</td>\n",
       "      <td>0</td>\n",
       "    </tr>\n",
       "    <tr>\n",
       "      <td>4</td>\n",
       "      <td>sku #16</td>\n",
       "      <td>1</td>\n",
       "      <td>1</td>\n",
       "      <td>1</td>\n",
       "      <td>0</td>\n",
       "    </tr>\n",
       "    <tr>\n",
       "      <td>5</td>\n",
       "      <td>sku #22</td>\n",
       "      <td>1</td>\n",
       "      <td>1</td>\n",
       "      <td>1</td>\n",
       "      <td>0</td>\n",
       "    </tr>\n",
       "    <tr>\n",
       "      <td>6</td>\n",
       "      <td>sku #25</td>\n",
       "      <td>1</td>\n",
       "      <td>1</td>\n",
       "      <td>1</td>\n",
       "      <td>1</td>\n",
       "    </tr>\n",
       "    <tr>\n",
       "      <td>7</td>\n",
       "      <td>sku #28</td>\n",
       "      <td>1</td>\n",
       "      <td>1</td>\n",
       "      <td>1</td>\n",
       "      <td>0</td>\n",
       "    </tr>\n",
       "    <tr>\n",
       "      <td>8</td>\n",
       "      <td>sku #30</td>\n",
       "      <td>1</td>\n",
       "      <td>1</td>\n",
       "      <td>1</td>\n",
       "      <td>1</td>\n",
       "    </tr>\n",
       "    <tr>\n",
       "      <td>9</td>\n",
       "      <td>sku #31</td>\n",
       "      <td>1</td>\n",
       "      <td>0</td>\n",
       "      <td>0</td>\n",
       "      <td>0</td>\n",
       "    </tr>\n",
       "    <tr>\n",
       "      <td>10</td>\n",
       "      <td>sku #38</td>\n",
       "      <td>1</td>\n",
       "      <td>0</td>\n",
       "      <td>1</td>\n",
       "      <td>0</td>\n",
       "    </tr>\n",
       "    <tr>\n",
       "      <td>11</td>\n",
       "      <td>sku #41</td>\n",
       "      <td>1</td>\n",
       "      <td>1</td>\n",
       "      <td>1</td>\n",
       "      <td>0</td>\n",
       "    </tr>\n",
       "    <tr>\n",
       "      <td>12</td>\n",
       "      <td>sku #42</td>\n",
       "      <td>0</td>\n",
       "      <td>0</td>\n",
       "      <td>1</td>\n",
       "      <td>0</td>\n",
       "    </tr>\n",
       "    <tr>\n",
       "      <td>13</td>\n",
       "      <td>sku #46</td>\n",
       "      <td>1</td>\n",
       "      <td>1</td>\n",
       "      <td>1</td>\n",
       "      <td>1</td>\n",
       "    </tr>\n",
       "    <tr>\n",
       "      <td>14</td>\n",
       "      <td>sku #48</td>\n",
       "      <td>1</td>\n",
       "      <td>1</td>\n",
       "      <td>1</td>\n",
       "      <td>0</td>\n",
       "    </tr>\n",
       "    <tr>\n",
       "      <td>15</td>\n",
       "      <td>sku #49</td>\n",
       "      <td>1</td>\n",
       "      <td>0</td>\n",
       "      <td>1</td>\n",
       "      <td>0</td>\n",
       "    </tr>\n",
       "    <tr>\n",
       "      <td>16</td>\n",
       "      <td>sku #67</td>\n",
       "      <td>0</td>\n",
       "      <td>0</td>\n",
       "      <td>1</td>\n",
       "      <td>0</td>\n",
       "    </tr>\n",
       "    <tr>\n",
       "      <td>17</td>\n",
       "      <td>sku #73</td>\n",
       "      <td>1</td>\n",
       "      <td>1</td>\n",
       "      <td>1</td>\n",
       "      <td>1</td>\n",
       "    </tr>\n",
       "    <tr>\n",
       "      <td>18</td>\n",
       "      <td>sku #76</td>\n",
       "      <td>1</td>\n",
       "      <td>1</td>\n",
       "      <td>1</td>\n",
       "      <td>0</td>\n",
       "    </tr>\n",
       "    <tr>\n",
       "      <td>19</td>\n",
       "      <td>sku #77</td>\n",
       "      <td>1</td>\n",
       "      <td>1</td>\n",
       "      <td>1</td>\n",
       "      <td>0</td>\n",
       "    </tr>\n",
       "    <tr>\n",
       "      <td>20</td>\n",
       "      <td>sku #78</td>\n",
       "      <td>1</td>\n",
       "      <td>0</td>\n",
       "      <td>1</td>\n",
       "      <td>0</td>\n",
       "    </tr>\n",
       "    <tr>\n",
       "      <td>21</td>\n",
       "      <td>sku #79</td>\n",
       "      <td>1</td>\n",
       "      <td>1</td>\n",
       "      <td>1</td>\n",
       "      <td>0</td>\n",
       "    </tr>\n",
       "    <tr>\n",
       "      <td>22</td>\n",
       "      <td>sku #94</td>\n",
       "      <td>1</td>\n",
       "      <td>0</td>\n",
       "      <td>1</td>\n",
       "      <td>0</td>\n",
       "    </tr>\n",
       "    <tr>\n",
       "      <td>23</td>\n",
       "      <td>sku #97</td>\n",
       "      <td>1</td>\n",
       "      <td>1</td>\n",
       "      <td>1</td>\n",
       "      <td>0</td>\n",
       "    </tr>\n",
       "  </tbody>\n",
       "</table>\n",
       "</div>"
      ],
      "text/plain": [
       "ira    sku_id  AC  MN  PB  VL\n",
       "0    sku #100   1   1   1   0\n",
       "1    sku #105   0   0   1   0\n",
       "2    sku #106   1   0   1   0\n",
       "3     sku #15   1   0   1   0\n",
       "4     sku #16   1   1   1   0\n",
       "5     sku #22   1   1   1   0\n",
       "6     sku #25   1   1   1   1\n",
       "7     sku #28   1   1   1   0\n",
       "8     sku #30   1   1   1   1\n",
       "9     sku #31   1   0   0   0\n",
       "10    sku #38   1   0   1   0\n",
       "11    sku #41   1   1   1   0\n",
       "12    sku #42   0   0   1   0\n",
       "13    sku #46   1   1   1   1\n",
       "14    sku #48   1   1   1   0\n",
       "15    sku #49   1   0   1   0\n",
       "16    sku #67   0   0   1   0\n",
       "17    sku #73   1   1   1   1\n",
       "18    sku #76   1   1   1   0\n",
       "19    sku #77   1   1   1   0\n",
       "20    sku #78   1   0   1   0\n",
       "21    sku #79   1   1   1   0\n",
       "22    sku #94   1   0   1   0\n",
       "23    sku #97   1   1   1   0"
      ]
     },
     "execution_count": 12,
     "metadata": {},
     "output_type": "execute_result"
    }
   ],
   "source": [
    "sales_check = sales[sales.month_n == 30].pivot_table(index='sku_id',\n",
    "                                columns='ira',\n",
    "                                values='month_n',\n",
    "                                aggfunc='count',\n",
    "                                fill_value=0).reset_index()\n",
    "sales_check"
   ]
  },
  {
   "cell_type": "markdown",
   "metadata": {},
   "source": [
    "#### Заметим так же, что информация о клиентах представленна только в трех географических зонах, а о продажах - в четырех.\n",
    "Зона VL вообще не иформативна, поэтому предсказание для нее делать не будем."
   ]
  },
  {
   "cell_type": "code",
   "execution_count": 13,
   "metadata": {},
   "outputs": [
    {
     "data": {
      "text/plain": [
       "array(['AC', 'MN', 'PB', 'VL'], dtype=object)"
      ]
     },
     "execution_count": 13,
     "metadata": {},
     "output_type": "execute_result"
    }
   ],
   "source": [
    "sales.ira.unique()"
   ]
  },
  {
   "cell_type": "code",
   "execution_count": 14,
   "metadata": {},
   "outputs": [
    {
     "data": {
      "text/plain": [
       "array(['AC', 'MN', 'PB'], dtype=object)"
      ]
     },
     "execution_count": 14,
     "metadata": {},
     "output_type": "execute_result"
    }
   ],
   "source": [
    "customers.ira.unique()"
   ]
  },
  {
   "cell_type": "markdown",
   "metadata": {},
   "source": [
    "Для остальных товаров логично предположить, что если они не продавались в июне 2019 г. в каком-то географическом регионе, то они и дальше не будут там продаваться.\n",
    "### Итоги предварительной аналитики:\n",
    "* Не будем деать предсказания для товаов, которые не продавались в июне 2019 г. *(список out_of_sales)*, так как они и дальше вероятнее всего не будут продаваться. **(можно считать, что предсказывается значение 0)**\n",
    "* Не будем деать предсказания для геогрфической зоны VL, так как по ней нет информации о клиентах и товаров в июне 2019 г. продавалось мало.\n",
    "* Не будем деать предсказания для пар (товар; географический регион), которые имеют ноль в тблице sales_check, так как данные товары не продвались в этих географических регионах в июне 2019 г. и вероятнее всего не будут продаваться в будущем. **(можно считать, что предсказывается значение 0)**"
   ]
  },
  {
   "cell_type": "markdown",
   "metadata": {},
   "source": [
    "## 2. Подготовка тренировочного датасета\n",
    "#### В итоговом датасете хочется иметь как информацию о продажах, так и информацию о клиентах.\n",
    "Для этого введем у customers и sales фиктивную величину, по которой эти таблицы позже будут объеденены."
   ]
  },
  {
   "cell_type": "code",
   "execution_count": 15,
   "metadata": {},
   "outputs": [],
   "source": [
    "sales = sales[sales.ira != 'VL']"
   ]
  },
  {
   "cell_type": "code",
   "execution_count": 16,
   "metadata": {},
   "outputs": [],
   "source": [
    "customers['month_n_ira'] = customers.month_n.map(str) + '_' + customers.ira.map(str)\n",
    "sales['month_n_ira'] = sales.month_n.map(str) + '_' + sales.ira.map(str)"
   ]
  },
  {
   "cell_type": "code",
   "execution_count": 17,
   "metadata": {},
   "outputs": [
    {
     "data": {
      "text/html": [
       "<div>\n",
       "<style scoped>\n",
       "    .dataframe tbody tr th:only-of-type {\n",
       "        vertical-align: middle;\n",
       "    }\n",
       "\n",
       "    .dataframe tbody tr th {\n",
       "        vertical-align: top;\n",
       "    }\n",
       "\n",
       "    .dataframe thead th {\n",
       "        text-align: right;\n",
       "    }\n",
       "</style>\n",
       "<table border=\"1\" class=\"dataframe\">\n",
       "  <thead>\n",
       "    <tr style=\"text-align: right;\">\n",
       "      <th></th>\n",
       "      <th>year</th>\n",
       "      <th>month</th>\n",
       "      <th>ira</th>\n",
       "      <th>customers_type</th>\n",
       "      <th>amount_of_customers</th>\n",
       "      <th>month_n</th>\n",
       "      <th>month_n_ira</th>\n",
       "    </tr>\n",
       "  </thead>\n",
       "  <tbody>\n",
       "    <tr>\n",
       "      <td>1977</td>\n",
       "      <td>2019</td>\n",
       "      <td>9</td>\n",
       "      <td>PB</td>\n",
       "      <td>Elf</td>\n",
       "      <td>2477.0</td>\n",
       "      <td>33</td>\n",
       "      <td>33_PB</td>\n",
       "    </tr>\n",
       "    <tr>\n",
       "      <td>1978</td>\n",
       "      <td>2019</td>\n",
       "      <td>9</td>\n",
       "      <td>PB</td>\n",
       "      <td>Angel</td>\n",
       "      <td>1355.0</td>\n",
       "      <td>33</td>\n",
       "      <td>33_PB</td>\n",
       "    </tr>\n",
       "    <tr>\n",
       "      <td>1979</td>\n",
       "      <td>2019</td>\n",
       "      <td>9</td>\n",
       "      <td>PB</td>\n",
       "      <td>other</td>\n",
       "      <td>8062.0</td>\n",
       "      <td>33</td>\n",
       "      <td>33_PB</td>\n",
       "    </tr>\n",
       "  </tbody>\n",
       "</table>\n",
       "</div>"
      ],
      "text/plain": [
       "      year  month ira customers_type  amount_of_customers  month_n month_n_ira\n",
       "1977  2019      9  PB            Elf               2477.0       33       33_PB\n",
       "1978  2019      9  PB          Angel               1355.0       33       33_PB\n",
       "1979  2019      9  PB          other               8062.0       33       33_PB"
      ]
     },
     "execution_count": 17,
     "metadata": {},
     "output_type": "execute_result"
    }
   ],
   "source": [
    "customers.tail(3)"
   ]
  },
  {
   "cell_type": "code",
   "execution_count": 18,
   "metadata": {},
   "outputs": [
    {
     "data": {
      "text/html": [
       "<div>\n",
       "<style scoped>\n",
       "    .dataframe tbody tr th:only-of-type {\n",
       "        vertical-align: middle;\n",
       "    }\n",
       "\n",
       "    .dataframe tbody tr th {\n",
       "        vertical-align: top;\n",
       "    }\n",
       "\n",
       "    .dataframe thead th {\n",
       "        text-align: right;\n",
       "    }\n",
       "</style>\n",
       "<table border=\"1\" class=\"dataframe\">\n",
       "  <thead>\n",
       "    <tr style=\"text-align: right;\">\n",
       "      <th></th>\n",
       "      <th>year</th>\n",
       "      <th>month</th>\n",
       "      <th>ira</th>\n",
       "      <th>product_category</th>\n",
       "      <th>brand</th>\n",
       "      <th>sku_id</th>\n",
       "      <th>item_per_bundle</th>\n",
       "      <th>shape</th>\n",
       "      <th>with_alcohol</th>\n",
       "      <th>filling</th>\n",
       "      <th>volume</th>\n",
       "      <th>price</th>\n",
       "      <th>month_n</th>\n",
       "      <th>month_n_ira</th>\n",
       "    </tr>\n",
       "  </thead>\n",
       "  <tbody>\n",
       "    <tr>\n",
       "      <td>1722</td>\n",
       "      <td>2019</td>\n",
       "      <td>6</td>\n",
       "      <td>PB</td>\n",
       "      <td>Lollipops</td>\n",
       "      <td>Chupa Chups</td>\n",
       "      <td>sku #76</td>\n",
       "      <td>1</td>\n",
       "      <td>Round</td>\n",
       "      <td>Yes</td>\n",
       "      <td>Nuts</td>\n",
       "      <td>3882.0</td>\n",
       "      <td>1.316449</td>\n",
       "      <td>30</td>\n",
       "      <td>30_PB</td>\n",
       "    </tr>\n",
       "    <tr>\n",
       "      <td>1723</td>\n",
       "      <td>2019</td>\n",
       "      <td>6</td>\n",
       "      <td>PB</td>\n",
       "      <td>Lollipops</td>\n",
       "      <td>Chupa Chups</td>\n",
       "      <td>sku #77</td>\n",
       "      <td>1</td>\n",
       "      <td>Round</td>\n",
       "      <td>No</td>\n",
       "      <td>Nuts</td>\n",
       "      <td>3834.0</td>\n",
       "      <td>1.316449</td>\n",
       "      <td>30</td>\n",
       "      <td>30_PB</td>\n",
       "    </tr>\n",
       "    <tr>\n",
       "      <td>1724</td>\n",
       "      <td>2019</td>\n",
       "      <td>6</td>\n",
       "      <td>PB</td>\n",
       "      <td>Lollipops</td>\n",
       "      <td>Chupa Chups</td>\n",
       "      <td>sku #97</td>\n",
       "      <td>1</td>\n",
       "      <td>Round</td>\n",
       "      <td>No</td>\n",
       "      <td>Nuts</td>\n",
       "      <td>5790.0</td>\n",
       "      <td>1.316449</td>\n",
       "      <td>30</td>\n",
       "      <td>30_PB</td>\n",
       "    </tr>\n",
       "  </tbody>\n",
       "</table>\n",
       "</div>"
      ],
      "text/plain": [
       "      year  month ira product_category        brand   sku_id  item_per_bundle  \\\n",
       "1722  2019      6  PB        Lollipops  Chupa Chups  sku #76                1   \n",
       "1723  2019      6  PB        Lollipops  Chupa Chups  sku #77                1   \n",
       "1724  2019      6  PB        Lollipops  Chupa Chups  sku #97                1   \n",
       "\n",
       "      shape with_alcohol filling  volume     price  month_n month_n_ira  \n",
       "1722  Round          Yes    Nuts  3882.0  1.316449       30       30_PB  \n",
       "1723  Round           No    Nuts  3834.0  1.316449       30       30_PB  \n",
       "1724  Round           No    Nuts  5790.0  1.316449       30       30_PB  "
      ]
     },
     "execution_count": 18,
     "metadata": {},
     "output_type": "execute_result"
    }
   ],
   "source": [
    "sales.tail(3)"
   ]
  },
  {
   "cell_type": "markdown",
   "metadata": {},
   "source": [
    "Выбросим из customers информацию за 7, 8 и 9 месяцы 2019г. и дропнем лишние столбцы."
   ]
  },
  {
   "cell_type": "code",
   "execution_count": 19,
   "metadata": {},
   "outputs": [],
   "source": [
    "customers_train = customers[customers.month_n < 31].drop(columns=['year', 'month'])"
   ]
  },
  {
   "cell_type": "code",
   "execution_count": 20,
   "metadata": {},
   "outputs": [
    {
     "data": {
      "text/html": [
       "<div>\n",
       "<style scoped>\n",
       "    .dataframe tbody tr th:only-of-type {\n",
       "        vertical-align: middle;\n",
       "    }\n",
       "\n",
       "    .dataframe tbody tr th {\n",
       "        vertical-align: top;\n",
       "    }\n",
       "\n",
       "    .dataframe thead th {\n",
       "        text-align: right;\n",
       "    }\n",
       "</style>\n",
       "<table border=\"1\" class=\"dataframe\">\n",
       "  <thead>\n",
       "    <tr style=\"text-align: right;\">\n",
       "      <th></th>\n",
       "      <th>ira</th>\n",
       "      <th>customers_type</th>\n",
       "      <th>amount_of_customers</th>\n",
       "      <th>month_n</th>\n",
       "      <th>month_n_ira</th>\n",
       "    </tr>\n",
       "  </thead>\n",
       "  <tbody>\n",
       "    <tr>\n",
       "      <td>1917</td>\n",
       "      <td>PB</td>\n",
       "      <td>Elf</td>\n",
       "      <td>2648.0</td>\n",
       "      <td>30</td>\n",
       "      <td>30_PB</td>\n",
       "    </tr>\n",
       "    <tr>\n",
       "      <td>1918</td>\n",
       "      <td>PB</td>\n",
       "      <td>Angel</td>\n",
       "      <td>1477.0</td>\n",
       "      <td>30</td>\n",
       "      <td>30_PB</td>\n",
       "    </tr>\n",
       "    <tr>\n",
       "      <td>1919</td>\n",
       "      <td>PB</td>\n",
       "      <td>other</td>\n",
       "      <td>6831.0</td>\n",
       "      <td>30</td>\n",
       "      <td>30_PB</td>\n",
       "    </tr>\n",
       "  </tbody>\n",
       "</table>\n",
       "</div>"
      ],
      "text/plain": [
       "     ira customers_type  amount_of_customers  month_n month_n_ira\n",
       "1917  PB            Elf               2648.0       30       30_PB\n",
       "1918  PB          Angel               1477.0       30       30_PB\n",
       "1919  PB          other               6831.0       30       30_PB"
      ]
     },
     "execution_count": 20,
     "metadata": {},
     "output_type": "execute_result"
    }
   ],
   "source": [
    "customers_train.tail(3)"
   ]
  },
  {
   "cell_type": "markdown",
   "metadata": {},
   "source": [
    "Развернем информацию о клиентах."
   ]
  },
  {
   "cell_type": "code",
   "execution_count": 21,
   "metadata": {},
   "outputs": [],
   "source": [
    "customers_data_train = customers_train.pivot_table(index='month_n_ira',\n",
    "                                                   columns='customers_type',\n",
    "                                                   values='amount_of_customers').reset_index()"
   ]
  },
  {
   "cell_type": "code",
   "execution_count": 22,
   "metadata": {},
   "outputs": [
    {
     "data": {
      "text/html": [
       "<div>\n",
       "<style scoped>\n",
       "    .dataframe tbody tr th:only-of-type {\n",
       "        vertical-align: middle;\n",
       "    }\n",
       "\n",
       "    .dataframe tbody tr th {\n",
       "        vertical-align: top;\n",
       "    }\n",
       "\n",
       "    .dataframe thead th {\n",
       "        text-align: right;\n",
       "    }\n",
       "</style>\n",
       "<table border=\"1\" class=\"dataframe\">\n",
       "  <thead>\n",
       "    <tr style=\"text-align: right;\">\n",
       "      <th>customers_type</th>\n",
       "      <th>month_n_ira</th>\n",
       "      <th>Angel</th>\n",
       "      <th>Archer</th>\n",
       "      <th>Centaur</th>\n",
       "      <th>Demon</th>\n",
       "      <th>Dwarf</th>\n",
       "      <th>Elf</th>\n",
       "      <th>Gargoyle</th>\n",
       "      <th>Genie</th>\n",
       "      <th>Ghost</th>\n",
       "      <th>...</th>\n",
       "      <th>Goblin</th>\n",
       "      <th>Gremlin</th>\n",
       "      <th>Medusa</th>\n",
       "      <th>Minotaur</th>\n",
       "      <th>Monk</th>\n",
       "      <th>Orc</th>\n",
       "      <th>Pegasus</th>\n",
       "      <th>Pirate</th>\n",
       "      <th>Unicorn</th>\n",
       "      <th>other</th>\n",
       "    </tr>\n",
       "  </thead>\n",
       "  <tbody>\n",
       "    <tr>\n",
       "      <td>0</td>\n",
       "      <td>10_AC</td>\n",
       "      <td>1158.0</td>\n",
       "      <td>852.0</td>\n",
       "      <td>2392.0</td>\n",
       "      <td>1255.0</td>\n",
       "      <td>782.0</td>\n",
       "      <td>6304.0</td>\n",
       "      <td>1692.0</td>\n",
       "      <td>8081.0</td>\n",
       "      <td>1308.0</td>\n",
       "      <td>...</td>\n",
       "      <td>698.0</td>\n",
       "      <td>2001.0</td>\n",
       "      <td>567.0</td>\n",
       "      <td>341.0</td>\n",
       "      <td>1085.0</td>\n",
       "      <td>1938.0</td>\n",
       "      <td>1144.0</td>\n",
       "      <td>40221.0</td>\n",
       "      <td>3143.0</td>\n",
       "      <td>11060.0</td>\n",
       "    </tr>\n",
       "    <tr>\n",
       "      <td>1</td>\n",
       "      <td>10_MN</td>\n",
       "      <td>717.0</td>\n",
       "      <td>72.0</td>\n",
       "      <td>138.0</td>\n",
       "      <td>64.0</td>\n",
       "      <td>60.0</td>\n",
       "      <td>1142.0</td>\n",
       "      <td>358.0</td>\n",
       "      <td>1055.0</td>\n",
       "      <td>297.0</td>\n",
       "      <td>...</td>\n",
       "      <td>212.0</td>\n",
       "      <td>613.0</td>\n",
       "      <td>314.0</td>\n",
       "      <td>59.0</td>\n",
       "      <td>76.0</td>\n",
       "      <td>87.0</td>\n",
       "      <td>234.0</td>\n",
       "      <td>14244.0</td>\n",
       "      <td>1168.0</td>\n",
       "      <td>1951.0</td>\n",
       "    </tr>\n",
       "    <tr>\n",
       "      <td>2</td>\n",
       "      <td>10_PB</td>\n",
       "      <td>1215.0</td>\n",
       "      <td>178.0</td>\n",
       "      <td>909.0</td>\n",
       "      <td>251.0</td>\n",
       "      <td>244.0</td>\n",
       "      <td>2000.0</td>\n",
       "      <td>812.0</td>\n",
       "      <td>1319.0</td>\n",
       "      <td>598.0</td>\n",
       "      <td>...</td>\n",
       "      <td>521.0</td>\n",
       "      <td>8639.0</td>\n",
       "      <td>471.0</td>\n",
       "      <td>958.0</td>\n",
       "      <td>304.0</td>\n",
       "      <td>908.0</td>\n",
       "      <td>660.0</td>\n",
       "      <td>15619.0</td>\n",
       "      <td>1889.0</td>\n",
       "      <td>6158.0</td>\n",
       "    </tr>\n",
       "  </tbody>\n",
       "</table>\n",
       "<p>3 rows × 21 columns</p>\n",
       "</div>"
      ],
      "text/plain": [
       "customers_type month_n_ira   Angel  Archer  Centaur   Demon  Dwarf     Elf  \\\n",
       "0                    10_AC  1158.0   852.0   2392.0  1255.0  782.0  6304.0   \n",
       "1                    10_MN   717.0    72.0    138.0    64.0   60.0  1142.0   \n",
       "2                    10_PB  1215.0   178.0    909.0   251.0  244.0  2000.0   \n",
       "\n",
       "customers_type  Gargoyle   Genie   Ghost  ...  Goblin  Gremlin  Medusa  \\\n",
       "0                 1692.0  8081.0  1308.0  ...   698.0   2001.0   567.0   \n",
       "1                  358.0  1055.0   297.0  ...   212.0    613.0   314.0   \n",
       "2                  812.0  1319.0   598.0  ...   521.0   8639.0   471.0   \n",
       "\n",
       "customers_type  Minotaur    Monk     Orc  Pegasus   Pirate  Unicorn    other  \n",
       "0                  341.0  1085.0  1938.0   1144.0  40221.0   3143.0  11060.0  \n",
       "1                   59.0    76.0    87.0    234.0  14244.0   1168.0   1951.0  \n",
       "2                  958.0   304.0   908.0    660.0  15619.0   1889.0   6158.0  \n",
       "\n",
       "[3 rows x 21 columns]"
      ]
     },
     "execution_count": 22,
     "metadata": {},
     "output_type": "execute_result"
    }
   ],
   "source": [
    "customers_data_train.head(3)"
   ]
  },
  {
   "cell_type": "markdown",
   "metadata": {},
   "source": [
    "#### Произведем объединение по фиктивной величине"
   ]
  },
  {
   "cell_type": "code",
   "execution_count": 23,
   "metadata": {},
   "outputs": [],
   "source": [
    "sales_data_train = sales.merge(customers_data_train, on='month_n_ira', how='inner').\\\n",
    "    drop(columns=['month_n_ira', 'year', 'month'])"
   ]
  },
  {
   "cell_type": "code",
   "execution_count": 24,
   "metadata": {},
   "outputs": [
    {
     "data": {
      "text/html": [
       "<div>\n",
       "<style scoped>\n",
       "    .dataframe tbody tr th:only-of-type {\n",
       "        vertical-align: middle;\n",
       "    }\n",
       "\n",
       "    .dataframe tbody tr th {\n",
       "        vertical-align: top;\n",
       "    }\n",
       "\n",
       "    .dataframe thead th {\n",
       "        text-align: right;\n",
       "    }\n",
       "</style>\n",
       "<table border=\"1\" class=\"dataframe\">\n",
       "  <thead>\n",
       "    <tr style=\"text-align: right;\">\n",
       "      <th></th>\n",
       "      <th>ira</th>\n",
       "      <th>product_category</th>\n",
       "      <th>brand</th>\n",
       "      <th>sku_id</th>\n",
       "      <th>item_per_bundle</th>\n",
       "      <th>shape</th>\n",
       "      <th>with_alcohol</th>\n",
       "      <th>filling</th>\n",
       "      <th>volume</th>\n",
       "      <th>price</th>\n",
       "      <th>...</th>\n",
       "      <th>Goblin</th>\n",
       "      <th>Gremlin</th>\n",
       "      <th>Medusa</th>\n",
       "      <th>Minotaur</th>\n",
       "      <th>Monk</th>\n",
       "      <th>Orc</th>\n",
       "      <th>Pegasus</th>\n",
       "      <th>Pirate</th>\n",
       "      <th>Unicorn</th>\n",
       "      <th>other</th>\n",
       "    </tr>\n",
       "  </thead>\n",
       "  <tbody>\n",
       "    <tr>\n",
       "      <td>1691</td>\n",
       "      <td>PB</td>\n",
       "      <td>Lollipops</td>\n",
       "      <td>Chupa Chups</td>\n",
       "      <td>sku #76</td>\n",
       "      <td>1</td>\n",
       "      <td>Round</td>\n",
       "      <td>Yes</td>\n",
       "      <td>Nuts</td>\n",
       "      <td>3882.0</td>\n",
       "      <td>1.316449</td>\n",
       "      <td>...</td>\n",
       "      <td>546.0</td>\n",
       "      <td>9222.0</td>\n",
       "      <td>475.0</td>\n",
       "      <td>1145.0</td>\n",
       "      <td>343.0</td>\n",
       "      <td>933.0</td>\n",
       "      <td>718.0</td>\n",
       "      <td>16501.0</td>\n",
       "      <td>2084.0</td>\n",
       "      <td>6831.0</td>\n",
       "    </tr>\n",
       "    <tr>\n",
       "      <td>1692</td>\n",
       "      <td>PB</td>\n",
       "      <td>Lollipops</td>\n",
       "      <td>Chupa Chups</td>\n",
       "      <td>sku #77</td>\n",
       "      <td>1</td>\n",
       "      <td>Round</td>\n",
       "      <td>No</td>\n",
       "      <td>Nuts</td>\n",
       "      <td>3834.0</td>\n",
       "      <td>1.316449</td>\n",
       "      <td>...</td>\n",
       "      <td>546.0</td>\n",
       "      <td>9222.0</td>\n",
       "      <td>475.0</td>\n",
       "      <td>1145.0</td>\n",
       "      <td>343.0</td>\n",
       "      <td>933.0</td>\n",
       "      <td>718.0</td>\n",
       "      <td>16501.0</td>\n",
       "      <td>2084.0</td>\n",
       "      <td>6831.0</td>\n",
       "    </tr>\n",
       "    <tr>\n",
       "      <td>1693</td>\n",
       "      <td>PB</td>\n",
       "      <td>Lollipops</td>\n",
       "      <td>Chupa Chups</td>\n",
       "      <td>sku #97</td>\n",
       "      <td>1</td>\n",
       "      <td>Round</td>\n",
       "      <td>No</td>\n",
       "      <td>Nuts</td>\n",
       "      <td>5790.0</td>\n",
       "      <td>1.316449</td>\n",
       "      <td>...</td>\n",
       "      <td>546.0</td>\n",
       "      <td>9222.0</td>\n",
       "      <td>475.0</td>\n",
       "      <td>1145.0</td>\n",
       "      <td>343.0</td>\n",
       "      <td>933.0</td>\n",
       "      <td>718.0</td>\n",
       "      <td>16501.0</td>\n",
       "      <td>2084.0</td>\n",
       "      <td>6831.0</td>\n",
       "    </tr>\n",
       "  </tbody>\n",
       "</table>\n",
       "<p>3 rows × 31 columns</p>\n",
       "</div>"
      ],
      "text/plain": [
       "     ira product_category        brand   sku_id  item_per_bundle  shape  \\\n",
       "1691  PB        Lollipops  Chupa Chups  sku #76                1  Round   \n",
       "1692  PB        Lollipops  Chupa Chups  sku #77                1  Round   \n",
       "1693  PB        Lollipops  Chupa Chups  sku #97                1  Round   \n",
       "\n",
       "     with_alcohol filling  volume     price  ...  Goblin  Gremlin  Medusa  \\\n",
       "1691          Yes    Nuts  3882.0  1.316449  ...   546.0   9222.0   475.0   \n",
       "1692           No    Nuts  3834.0  1.316449  ...   546.0   9222.0   475.0   \n",
       "1693           No    Nuts  5790.0  1.316449  ...   546.0   9222.0   475.0   \n",
       "\n",
       "      Minotaur   Monk    Orc  Pegasus   Pirate  Unicorn   other  \n",
       "1691    1145.0  343.0  933.0    718.0  16501.0   2084.0  6831.0  \n",
       "1692    1145.0  343.0  933.0    718.0  16501.0   2084.0  6831.0  \n",
       "1693    1145.0  343.0  933.0    718.0  16501.0   2084.0  6831.0  \n",
       "\n",
       "[3 rows x 31 columns]"
      ]
     },
     "execution_count": 24,
     "metadata": {},
     "output_type": "execute_result"
    }
   ],
   "source": [
    "sales_data_train.tail(3)"
   ]
  },
  {
   "cell_type": "markdown",
   "metadata": {},
   "source": [
    "Заметим что, количество строк в получившемся датасете совпадает с количеством строк в датасете sales, а также не появилось новых пустых значений. Значит объединение прошло успешно."
   ]
  },
  {
   "cell_type": "code",
   "execution_count": 25,
   "metadata": {},
   "outputs": [
    {
     "data": {
      "text/plain": [
       "True"
      ]
     },
     "execution_count": 25,
     "metadata": {},
     "output_type": "execute_result"
    }
   ],
   "source": [
    "sales.shape[0] == sales_data_train.shape[0]"
   ]
  },
  {
   "cell_type": "code",
   "execution_count": 26,
   "metadata": {},
   "outputs": [
    {
     "data": {
      "text/plain": [
       "price    112\n",
       "dtype: int64"
      ]
     },
     "execution_count": 26,
     "metadata": {},
     "output_type": "execute_result"
    }
   ],
   "source": [
    "null_number = sales_data_train.isnull().sum()\n",
    "null_number[null_number!=0]"
   ]
  },
  {
   "cell_type": "markdown",
   "metadata": {},
   "source": [
    "## 3. Подготовка предиктового датасета"
   ]
  },
  {
   "cell_type": "markdown",
   "metadata": {},
   "source": [
    "Как уже говорилось ранее: предсказание будем делать только для тех товаров, которые продолжают продаваться на июнь 2019 г. (и только в регионах, в которых они продаются)"
   ]
  },
  {
   "cell_type": "code",
   "execution_count": 27,
   "metadata": {},
   "outputs": [],
   "source": [
    "sales_last_month = sales[sales.month_n == 30].reset_index(drop=True).\\\n",
    "        drop(columns=['year', 'month', 'month_n', 'month_n_ira'])"
   ]
  },
  {
   "cell_type": "code",
   "execution_count": 28,
   "metadata": {},
   "outputs": [
    {
     "data": {
      "text/html": [
       "<div>\n",
       "<style scoped>\n",
       "    .dataframe tbody tr th:only-of-type {\n",
       "        vertical-align: middle;\n",
       "    }\n",
       "\n",
       "    .dataframe tbody tr th {\n",
       "        vertical-align: top;\n",
       "    }\n",
       "\n",
       "    .dataframe thead th {\n",
       "        text-align: right;\n",
       "    }\n",
       "</style>\n",
       "<table border=\"1\" class=\"dataframe\">\n",
       "  <thead>\n",
       "    <tr style=\"text-align: right;\">\n",
       "      <th></th>\n",
       "      <th>ira</th>\n",
       "      <th>product_category</th>\n",
       "      <th>brand</th>\n",
       "      <th>sku_id</th>\n",
       "      <th>item_per_bundle</th>\n",
       "      <th>shape</th>\n",
       "      <th>with_alcohol</th>\n",
       "      <th>filling</th>\n",
       "      <th>volume</th>\n",
       "      <th>price</th>\n",
       "    </tr>\n",
       "  </thead>\n",
       "  <tbody>\n",
       "    <tr>\n",
       "      <td>55</td>\n",
       "      <td>PB</td>\n",
       "      <td>Lollipops</td>\n",
       "      <td>Chupa Chups</td>\n",
       "      <td>sku #76</td>\n",
       "      <td>1</td>\n",
       "      <td>Round</td>\n",
       "      <td>Yes</td>\n",
       "      <td>Nuts</td>\n",
       "      <td>3882.0</td>\n",
       "      <td>1.316449</td>\n",
       "    </tr>\n",
       "    <tr>\n",
       "      <td>56</td>\n",
       "      <td>PB</td>\n",
       "      <td>Lollipops</td>\n",
       "      <td>Chupa Chups</td>\n",
       "      <td>sku #77</td>\n",
       "      <td>1</td>\n",
       "      <td>Round</td>\n",
       "      <td>No</td>\n",
       "      <td>Nuts</td>\n",
       "      <td>3834.0</td>\n",
       "      <td>1.316449</td>\n",
       "    </tr>\n",
       "    <tr>\n",
       "      <td>57</td>\n",
       "      <td>PB</td>\n",
       "      <td>Lollipops</td>\n",
       "      <td>Chupa Chups</td>\n",
       "      <td>sku #97</td>\n",
       "      <td>1</td>\n",
       "      <td>Round</td>\n",
       "      <td>No</td>\n",
       "      <td>Nuts</td>\n",
       "      <td>5790.0</td>\n",
       "      <td>1.316449</td>\n",
       "    </tr>\n",
       "  </tbody>\n",
       "</table>\n",
       "</div>"
      ],
      "text/plain": [
       "   ira product_category        brand   sku_id  item_per_bundle  shape  \\\n",
       "55  PB        Lollipops  Chupa Chups  sku #76                1  Round   \n",
       "56  PB        Lollipops  Chupa Chups  sku #77                1  Round   \n",
       "57  PB        Lollipops  Chupa Chups  sku #97                1  Round   \n",
       "\n",
       "   with_alcohol filling  volume     price  \n",
       "55          Yes    Nuts  3882.0  1.316449  \n",
       "56           No    Nuts  3834.0  1.316449  \n",
       "57           No    Nuts  5790.0  1.316449  "
      ]
     },
     "execution_count": 28,
     "metadata": {},
     "output_type": "execute_result"
    }
   ],
   "source": [
    "sales_last_month.tail(3)"
   ]
  },
  {
   "cell_type": "code",
   "execution_count": 29,
   "metadata": {},
   "outputs": [
    {
     "data": {
      "text/plain": [
       "ira                 0\n",
       "product_category    0\n",
       "brand               0\n",
       "sku_id              0\n",
       "item_per_bundle     0\n",
       "shape               0\n",
       "with_alcohol        0\n",
       "filling             0\n",
       "volume              0\n",
       "price               0\n",
       "dtype: int64"
      ]
     },
     "execution_count": 29,
     "metadata": {},
     "output_type": "execute_result"
    }
   ],
   "source": [
    "sales_last_month.isnull().sum()"
   ]
  },
  {
   "cell_type": "code",
   "execution_count": 30,
   "metadata": {},
   "outputs": [],
   "source": [
    "sales_to_pred = pd.DataFrame()\n",
    "for i in range(31, 34):\n",
    "    sales_last_month['month_n'] = i\n",
    "    sales_last_month['volume'] = np.NaN\n",
    "    sales_to_pred = sales_to_pred.append(sales_last_month).reset_index(drop=True)"
   ]
  },
  {
   "cell_type": "code",
   "execution_count": 31,
   "metadata": {},
   "outputs": [
    {
     "data": {
      "text/html": [
       "<div>\n",
       "<style scoped>\n",
       "    .dataframe tbody tr th:only-of-type {\n",
       "        vertical-align: middle;\n",
       "    }\n",
       "\n",
       "    .dataframe tbody tr th {\n",
       "        vertical-align: top;\n",
       "    }\n",
       "\n",
       "    .dataframe thead th {\n",
       "        text-align: right;\n",
       "    }\n",
       "</style>\n",
       "<table border=\"1\" class=\"dataframe\">\n",
       "  <thead>\n",
       "    <tr style=\"text-align: right;\">\n",
       "      <th></th>\n",
       "      <th>ira</th>\n",
       "      <th>product_category</th>\n",
       "      <th>brand</th>\n",
       "      <th>sku_id</th>\n",
       "      <th>item_per_bundle</th>\n",
       "      <th>shape</th>\n",
       "      <th>with_alcohol</th>\n",
       "      <th>filling</th>\n",
       "      <th>volume</th>\n",
       "      <th>price</th>\n",
       "      <th>month_n</th>\n",
       "    </tr>\n",
       "  </thead>\n",
       "  <tbody>\n",
       "    <tr>\n",
       "      <td>171</td>\n",
       "      <td>PB</td>\n",
       "      <td>Lollipops</td>\n",
       "      <td>Chupa Chups</td>\n",
       "      <td>sku #76</td>\n",
       "      <td>1</td>\n",
       "      <td>Round</td>\n",
       "      <td>Yes</td>\n",
       "      <td>Nuts</td>\n",
       "      <td>NaN</td>\n",
       "      <td>1.316449</td>\n",
       "      <td>33</td>\n",
       "    </tr>\n",
       "    <tr>\n",
       "      <td>172</td>\n",
       "      <td>PB</td>\n",
       "      <td>Lollipops</td>\n",
       "      <td>Chupa Chups</td>\n",
       "      <td>sku #77</td>\n",
       "      <td>1</td>\n",
       "      <td>Round</td>\n",
       "      <td>No</td>\n",
       "      <td>Nuts</td>\n",
       "      <td>NaN</td>\n",
       "      <td>1.316449</td>\n",
       "      <td>33</td>\n",
       "    </tr>\n",
       "    <tr>\n",
       "      <td>173</td>\n",
       "      <td>PB</td>\n",
       "      <td>Lollipops</td>\n",
       "      <td>Chupa Chups</td>\n",
       "      <td>sku #97</td>\n",
       "      <td>1</td>\n",
       "      <td>Round</td>\n",
       "      <td>No</td>\n",
       "      <td>Nuts</td>\n",
       "      <td>NaN</td>\n",
       "      <td>1.316449</td>\n",
       "      <td>33</td>\n",
       "    </tr>\n",
       "  </tbody>\n",
       "</table>\n",
       "</div>"
      ],
      "text/plain": [
       "    ira product_category        brand   sku_id  item_per_bundle  shape  \\\n",
       "171  PB        Lollipops  Chupa Chups  sku #76                1  Round   \n",
       "172  PB        Lollipops  Chupa Chups  sku #77                1  Round   \n",
       "173  PB        Lollipops  Chupa Chups  sku #97                1  Round   \n",
       "\n",
       "    with_alcohol filling  volume     price  month_n  \n",
       "171          Yes    Nuts     NaN  1.316449       33  \n",
       "172           No    Nuts     NaN  1.316449       33  \n",
       "173           No    Nuts     NaN  1.316449       33  "
      ]
     },
     "execution_count": 31,
     "metadata": {},
     "output_type": "execute_result"
    }
   ],
   "source": [
    "sales_to_pred.tail(3)"
   ]
  },
  {
   "cell_type": "code",
   "execution_count": 32,
   "metadata": {},
   "outputs": [
    {
     "data": {
      "text/plain": [
       "True"
      ]
     },
     "execution_count": 32,
     "metadata": {},
     "output_type": "execute_result"
    }
   ],
   "source": [
    "sales_to_pred.shape[0] == 3 * sales_last_month.shape[0]"
   ]
  },
  {
   "cell_type": "code",
   "execution_count": 33,
   "metadata": {},
   "outputs": [
    {
     "data": {
      "text/plain": [
       "volume    174\n",
       "dtype: int64"
      ]
     },
     "execution_count": 33,
     "metadata": {},
     "output_type": "execute_result"
    }
   ],
   "source": [
    "null_number = sales_to_pred.isnull().sum()\n",
    "null_number[null_number!=0]"
   ]
  },
  {
   "cell_type": "markdown",
   "metadata": {},
   "source": [
    "Добавили к продажам номер месяца и:\n",
    "* количество строк увеличилось втрое, как и должно\n",
    "* не появились пустые значения, кроме volume, который мы собираемся предсказывать \n",
    "\n",
    "значит все прошло успешно."
   ]
  },
  {
   "cell_type": "code",
   "execution_count": 34,
   "metadata": {},
   "outputs": [],
   "source": [
    "sales_to_pred['month_n_ira'] = sales_to_pred.month_n.map(str) + '_' + sales_to_pred.ira.map(str)"
   ]
  },
  {
   "cell_type": "code",
   "execution_count": 35,
   "metadata": {},
   "outputs": [],
   "source": [
    "customers_to_pred = customers[customers.month_n > 30].drop(columns=['year', 'month'])"
   ]
  },
  {
   "cell_type": "code",
   "execution_count": 36,
   "metadata": {},
   "outputs": [],
   "source": [
    "customers_data_to_pred = customers_to_pred.pivot_table(index='month_n_ira',\n",
    "                                                   columns='customers_type',\n",
    "                                                   values='amount_of_customers').reset_index()"
   ]
  },
  {
   "cell_type": "code",
   "execution_count": 37,
   "metadata": {},
   "outputs": [],
   "source": [
    "sales_data_to_pred = sales_to_pred.merge(customers_data_to_pred, on='month_n_ira', how='inner').\\\n",
    "    drop(columns=['month_n_ira'])"
   ]
  },
  {
   "cell_type": "code",
   "execution_count": 38,
   "metadata": {},
   "outputs": [
    {
     "data": {
      "text/html": [
       "<div>\n",
       "<style scoped>\n",
       "    .dataframe tbody tr th:only-of-type {\n",
       "        vertical-align: middle;\n",
       "    }\n",
       "\n",
       "    .dataframe tbody tr th {\n",
       "        vertical-align: top;\n",
       "    }\n",
       "\n",
       "    .dataframe thead th {\n",
       "        text-align: right;\n",
       "    }\n",
       "</style>\n",
       "<table border=\"1\" class=\"dataframe\">\n",
       "  <thead>\n",
       "    <tr style=\"text-align: right;\">\n",
       "      <th></th>\n",
       "      <th>ira</th>\n",
       "      <th>product_category</th>\n",
       "      <th>brand</th>\n",
       "      <th>sku_id</th>\n",
       "      <th>item_per_bundle</th>\n",
       "      <th>shape</th>\n",
       "      <th>with_alcohol</th>\n",
       "      <th>filling</th>\n",
       "      <th>volume</th>\n",
       "      <th>price</th>\n",
       "      <th>...</th>\n",
       "      <th>Goblin</th>\n",
       "      <th>Gremlin</th>\n",
       "      <th>Medusa</th>\n",
       "      <th>Minotaur</th>\n",
       "      <th>Monk</th>\n",
       "      <th>Orc</th>\n",
       "      <th>Pegasus</th>\n",
       "      <th>Pirate</th>\n",
       "      <th>Unicorn</th>\n",
       "      <th>other</th>\n",
       "    </tr>\n",
       "  </thead>\n",
       "  <tbody>\n",
       "    <tr>\n",
       "      <td>171</td>\n",
       "      <td>PB</td>\n",
       "      <td>Lollipops</td>\n",
       "      <td>Chupa Chups</td>\n",
       "      <td>sku #76</td>\n",
       "      <td>1</td>\n",
       "      <td>Round</td>\n",
       "      <td>Yes</td>\n",
       "      <td>Nuts</td>\n",
       "      <td>NaN</td>\n",
       "      <td>1.316449</td>\n",
       "      <td>...</td>\n",
       "      <td>534.0</td>\n",
       "      <td>8976.0</td>\n",
       "      <td>540.0</td>\n",
       "      <td>1066.0</td>\n",
       "      <td>334.0</td>\n",
       "      <td>948.0</td>\n",
       "      <td>798.0</td>\n",
       "      <td>15752.0</td>\n",
       "      <td>1896.0</td>\n",
       "      <td>8062.0</td>\n",
       "    </tr>\n",
       "    <tr>\n",
       "      <td>172</td>\n",
       "      <td>PB</td>\n",
       "      <td>Lollipops</td>\n",
       "      <td>Chupa Chups</td>\n",
       "      <td>sku #77</td>\n",
       "      <td>1</td>\n",
       "      <td>Round</td>\n",
       "      <td>No</td>\n",
       "      <td>Nuts</td>\n",
       "      <td>NaN</td>\n",
       "      <td>1.316449</td>\n",
       "      <td>...</td>\n",
       "      <td>534.0</td>\n",
       "      <td>8976.0</td>\n",
       "      <td>540.0</td>\n",
       "      <td>1066.0</td>\n",
       "      <td>334.0</td>\n",
       "      <td>948.0</td>\n",
       "      <td>798.0</td>\n",
       "      <td>15752.0</td>\n",
       "      <td>1896.0</td>\n",
       "      <td>8062.0</td>\n",
       "    </tr>\n",
       "    <tr>\n",
       "      <td>173</td>\n",
       "      <td>PB</td>\n",
       "      <td>Lollipops</td>\n",
       "      <td>Chupa Chups</td>\n",
       "      <td>sku #97</td>\n",
       "      <td>1</td>\n",
       "      <td>Round</td>\n",
       "      <td>No</td>\n",
       "      <td>Nuts</td>\n",
       "      <td>NaN</td>\n",
       "      <td>1.316449</td>\n",
       "      <td>...</td>\n",
       "      <td>534.0</td>\n",
       "      <td>8976.0</td>\n",
       "      <td>540.0</td>\n",
       "      <td>1066.0</td>\n",
       "      <td>334.0</td>\n",
       "      <td>948.0</td>\n",
       "      <td>798.0</td>\n",
       "      <td>15752.0</td>\n",
       "      <td>1896.0</td>\n",
       "      <td>8062.0</td>\n",
       "    </tr>\n",
       "  </tbody>\n",
       "</table>\n",
       "<p>3 rows × 31 columns</p>\n",
       "</div>"
      ],
      "text/plain": [
       "    ira product_category        brand   sku_id  item_per_bundle  shape  \\\n",
       "171  PB        Lollipops  Chupa Chups  sku #76                1  Round   \n",
       "172  PB        Lollipops  Chupa Chups  sku #77                1  Round   \n",
       "173  PB        Lollipops  Chupa Chups  sku #97                1  Round   \n",
       "\n",
       "    with_alcohol filling  volume     price  ...  Goblin  Gremlin  Medusa  \\\n",
       "171          Yes    Nuts     NaN  1.316449  ...   534.0   8976.0   540.0   \n",
       "172           No    Nuts     NaN  1.316449  ...   534.0   8976.0   540.0   \n",
       "173           No    Nuts     NaN  1.316449  ...   534.0   8976.0   540.0   \n",
       "\n",
       "     Minotaur   Monk    Orc  Pegasus   Pirate  Unicorn   other  \n",
       "171    1066.0  334.0  948.0    798.0  15752.0   1896.0  8062.0  \n",
       "172    1066.0  334.0  948.0    798.0  15752.0   1896.0  8062.0  \n",
       "173    1066.0  334.0  948.0    798.0  15752.0   1896.0  8062.0  \n",
       "\n",
       "[3 rows x 31 columns]"
      ]
     },
     "execution_count": 38,
     "metadata": {},
     "output_type": "execute_result"
    }
   ],
   "source": [
    "sales_data_to_pred.tail(3)"
   ]
  },
  {
   "cell_type": "code",
   "execution_count": 39,
   "metadata": {},
   "outputs": [
    {
     "data": {
      "text/plain": [
       "True"
      ]
     },
     "execution_count": 39,
     "metadata": {},
     "output_type": "execute_result"
    }
   ],
   "source": [
    "sales_to_pred.shape[0] == sales_data_to_pred.shape[0]"
   ]
  },
  {
   "cell_type": "code",
   "execution_count": 40,
   "metadata": {},
   "outputs": [
    {
     "data": {
      "text/plain": [
       "volume    174\n",
       "dtype: int64"
      ]
     },
     "execution_count": 40,
     "metadata": {},
     "output_type": "execute_result"
    }
   ],
   "source": [
    "null_number = sales_data_to_pred.isnull().sum()\n",
    "null_number[null_number!=0]"
   ]
  },
  {
   "cell_type": "markdown",
   "metadata": {},
   "source": [
    "* количество строк не изменилось\n",
    "* пустые значения не появились \n",
    "\n",
    "значит merge прошел успешно."
   ]
  },
  {
   "cell_type": "markdown",
   "metadata": {},
   "source": [
    "## 4. Кодировка и масштабирование данных"
   ]
  },
  {
   "cell_type": "markdown",
   "metadata": {},
   "source": [
    "Необходимо теперь закодировать категориальные переменные и отмасштабировать количественные.\n",
    "\n",
    "Масштабирование количественных переменных будем проводить заменяя их на их z-значения, где\n",
    "\n",
    "$z = \\frac{X - MX}{stdX}$"
   ]
  },
  {
   "cell_type": "markdown",
   "metadata": {},
   "source": [
    "Чтобы кодировка и масштабирование было общим для тренировочного и предиктового датасетов объединим их в один."
   ]
  },
  {
   "cell_type": "code",
   "execution_count": 41,
   "metadata": {},
   "outputs": [],
   "source": [
    "all_data = sales_data_train.append(sales_data_to_pred).reset_index(drop=True)"
   ]
  },
  {
   "cell_type": "code",
   "execution_count": 42,
   "metadata": {},
   "outputs": [],
   "source": [
    "volume_mean = all_data.volume.mean()\n",
    "volume_std = all_data.volume.std()\n",
    "\n",
    "price_mean = all_data.price.mean()\n",
    "price_std = all_data.price.std()\n",
    "\n",
    "numeric_values = ''\n",
    "category_values = ''\n",
    "category_dictionary = {}\n",
    "for i in all_data.drop(columns=['month_n']):\n",
    "    if (all_data[i].dtype == int or all_data[i].dtype == float) and all_data[i].nunique() > 33:\n",
    "        all_data[i] = (all_data[i] - all_data[i].mean()) / all_data[i].std()\n",
    "        numeric_values += i + '; '\n",
    "    else:\n",
    "        categorized = all_data[i].astype('category')\n",
    "        category_dictionary[i] = tuple(categorized.cat.categories)\n",
    "        categorized = categorized.cat.codes\n",
    "        all_data[i] = categorized\n",
    "        category_values += i + '; '"
   ]
  },
  {
   "cell_type": "code",
   "execution_count": 43,
   "metadata": {},
   "outputs": [
    {
     "data": {
      "text/plain": [
       "'volume; price; Angel; Archer; Centaur; Demon; Dwarf; Elf; Gargoyle; Genie; Ghost; Giant; Goblin; Gremlin; Medusa; Minotaur; Monk; Orc; Pegasus; Pirate; Unicorn; other; '"
      ]
     },
     "execution_count": 43,
     "metadata": {},
     "output_type": "execute_result"
    }
   ],
   "source": [
    "numeric_values"
   ]
  },
  {
   "cell_type": "code",
   "execution_count": 44,
   "metadata": {},
   "outputs": [
    {
     "data": {
      "text/plain": [
       "'ira; product_category; brand; sku_id; item_per_bundle; shape; with_alcohol; filling; '"
      ]
     },
     "execution_count": 44,
     "metadata": {},
     "output_type": "execute_result"
    }
   ],
   "source": [
    "category_values"
   ]
  },
  {
   "cell_type": "code",
   "execution_count": 45,
   "metadata": {},
   "outputs": [
    {
     "data": {
      "text/html": [
       "<div>\n",
       "<style scoped>\n",
       "    .dataframe tbody tr th:only-of-type {\n",
       "        vertical-align: middle;\n",
       "    }\n",
       "\n",
       "    .dataframe tbody tr th {\n",
       "        vertical-align: top;\n",
       "    }\n",
       "\n",
       "    .dataframe thead th {\n",
       "        text-align: right;\n",
       "    }\n",
       "</style>\n",
       "<table border=\"1\" class=\"dataframe\">\n",
       "  <thead>\n",
       "    <tr style=\"text-align: right;\">\n",
       "      <th></th>\n",
       "      <th>ira</th>\n",
       "      <th>product_category</th>\n",
       "      <th>brand</th>\n",
       "      <th>sku_id</th>\n",
       "      <th>item_per_bundle</th>\n",
       "      <th>shape</th>\n",
       "      <th>with_alcohol</th>\n",
       "      <th>filling</th>\n",
       "      <th>volume</th>\n",
       "      <th>price</th>\n",
       "      <th>...</th>\n",
       "      <th>Goblin</th>\n",
       "      <th>Gremlin</th>\n",
       "      <th>Medusa</th>\n",
       "      <th>Minotaur</th>\n",
       "      <th>Monk</th>\n",
       "      <th>Orc</th>\n",
       "      <th>Pegasus</th>\n",
       "      <th>Pirate</th>\n",
       "      <th>Unicorn</th>\n",
       "      <th>other</th>\n",
       "    </tr>\n",
       "  </thead>\n",
       "  <tbody>\n",
       "    <tr>\n",
       "      <td>1865</td>\n",
       "      <td>2</td>\n",
       "      <td>1</td>\n",
       "      <td>1</td>\n",
       "      <td>32</td>\n",
       "      <td>0</td>\n",
       "      <td>0</td>\n",
       "      <td>1</td>\n",
       "      <td>2</td>\n",
       "      <td>NaN</td>\n",
       "      <td>-0.439421</td>\n",
       "      <td>...</td>\n",
       "      <td>0.254989</td>\n",
       "      <td>1.382126</td>\n",
       "      <td>0.259308</td>\n",
       "      <td>1.411236</td>\n",
       "      <td>-0.476553</td>\n",
       "      <td>-0.407115</td>\n",
       "      <td>-0.018658</td>\n",
       "      <td>-0.503645</td>\n",
       "      <td>-0.255551</td>\n",
       "      <td>0.219432</td>\n",
       "    </tr>\n",
       "    <tr>\n",
       "      <td>1866</td>\n",
       "      <td>2</td>\n",
       "      <td>1</td>\n",
       "      <td>1</td>\n",
       "      <td>33</td>\n",
       "      <td>0</td>\n",
       "      <td>0</td>\n",
       "      <td>0</td>\n",
       "      <td>2</td>\n",
       "      <td>NaN</td>\n",
       "      <td>-0.439421</td>\n",
       "      <td>...</td>\n",
       "      <td>0.254989</td>\n",
       "      <td>1.382126</td>\n",
       "      <td>0.259308</td>\n",
       "      <td>1.411236</td>\n",
       "      <td>-0.476553</td>\n",
       "      <td>-0.407115</td>\n",
       "      <td>-0.018658</td>\n",
       "      <td>-0.503645</td>\n",
       "      <td>-0.255551</td>\n",
       "      <td>0.219432</td>\n",
       "    </tr>\n",
       "    <tr>\n",
       "      <td>1867</td>\n",
       "      <td>2</td>\n",
       "      <td>1</td>\n",
       "      <td>1</td>\n",
       "      <td>41</td>\n",
       "      <td>0</td>\n",
       "      <td>0</td>\n",
       "      <td>0</td>\n",
       "      <td>2</td>\n",
       "      <td>NaN</td>\n",
       "      <td>-0.439421</td>\n",
       "      <td>...</td>\n",
       "      <td>0.254989</td>\n",
       "      <td>1.382126</td>\n",
       "      <td>0.259308</td>\n",
       "      <td>1.411236</td>\n",
       "      <td>-0.476553</td>\n",
       "      <td>-0.407115</td>\n",
       "      <td>-0.018658</td>\n",
       "      <td>-0.503645</td>\n",
       "      <td>-0.255551</td>\n",
       "      <td>0.219432</td>\n",
       "    </tr>\n",
       "  </tbody>\n",
       "</table>\n",
       "<p>3 rows × 31 columns</p>\n",
       "</div>"
      ],
      "text/plain": [
       "      ira  product_category  brand  sku_id  item_per_bundle  shape  \\\n",
       "1865    2                 1      1      32                0      0   \n",
       "1866    2                 1      1      33                0      0   \n",
       "1867    2                 1      1      41                0      0   \n",
       "\n",
       "      with_alcohol  filling  volume     price  ...    Goblin   Gremlin  \\\n",
       "1865             1        2     NaN -0.439421  ...  0.254989  1.382126   \n",
       "1866             0        2     NaN -0.439421  ...  0.254989  1.382126   \n",
       "1867             0        2     NaN -0.439421  ...  0.254989  1.382126   \n",
       "\n",
       "        Medusa  Minotaur      Monk       Orc   Pegasus    Pirate   Unicorn  \\\n",
       "1865  0.259308  1.411236 -0.476553 -0.407115 -0.018658 -0.503645 -0.255551   \n",
       "1866  0.259308  1.411236 -0.476553 -0.407115 -0.018658 -0.503645 -0.255551   \n",
       "1867  0.259308  1.411236 -0.476553 -0.407115 -0.018658 -0.503645 -0.255551   \n",
       "\n",
       "         other  \n",
       "1865  0.219432  \n",
       "1866  0.219432  \n",
       "1867  0.219432  \n",
       "\n",
       "[3 rows x 31 columns]"
      ]
     },
     "execution_count": 45,
     "metadata": {},
     "output_type": "execute_result"
    }
   ],
   "source": [
    "all_data.tail(3)"
   ]
  },
  {
   "cell_type": "code",
   "execution_count": 46,
   "metadata": {},
   "outputs": [
    {
     "data": {
      "text/plain": [
       "{'ira': ('AC', 'MN', 'PB'),\n",
       " 'product_category': ('Chocolates', 'Lollipops'),\n",
       " 'brand': ('Cadbury',\n",
       "  'Chupa Chups',\n",
       "  'Ferrero Rocher',\n",
       "  'Milka',\n",
       "  'Snickers',\n",
       "  'Toblerone',\n",
       "  'Twix'),\n",
       " 'sku_id': ('sku #100',\n",
       "  'sku #105',\n",
       "  'sku #106',\n",
       "  'sku #11',\n",
       "  'sku #15',\n",
       "  'sku #16',\n",
       "  'sku #17',\n",
       "  'sku #22',\n",
       "  'sku #25',\n",
       "  'sku #27',\n",
       "  'sku #28',\n",
       "  'sku #3',\n",
       "  'sku #30',\n",
       "  'sku #31',\n",
       "  'sku #33',\n",
       "  'sku #34',\n",
       "  'sku #37',\n",
       "  'sku #38',\n",
       "  'sku #41',\n",
       "  'sku #42',\n",
       "  'sku #43',\n",
       "  'sku #44',\n",
       "  'sku #46',\n",
       "  'sku #48',\n",
       "  'sku #49',\n",
       "  'sku #5',\n",
       "  'sku #55',\n",
       "  'sku #60',\n",
       "  'sku #67',\n",
       "  'sku #7',\n",
       "  'sku #72',\n",
       "  'sku #73',\n",
       "  'sku #76',\n",
       "  'sku #77',\n",
       "  'sku #78',\n",
       "  'sku #79',\n",
       "  'sku #81',\n",
       "  'sku #82',\n",
       "  'sku #83',\n",
       "  'sku #84',\n",
       "  'sku #94',\n",
       "  'sku #97',\n",
       "  'sku #98'),\n",
       " 'item_per_bundle': (1, 2, 3),\n",
       " 'shape': ('Round', 'Square', 'Standart'),\n",
       " 'with_alcohol': ('No', 'Yes'),\n",
       " 'filling': ('Berries', 'Nothing', 'Nuts')}"
      ]
     },
     "execution_count": 46,
     "metadata": {},
     "output_type": "execute_result"
    }
   ],
   "source": [
    "category_dictionary"
   ]
  },
  {
   "cell_type": "code",
   "execution_count": 47,
   "metadata": {},
   "outputs": [],
   "source": [
    "train_data = all_data[all_data.month_n <= 30]\n",
    "prediction_data = all_data[all_data.month_n > 30]"
   ]
  },
  {
   "cell_type": "markdown",
   "metadata": {},
   "source": [
    "## 5. Восстановление пропущенных значений цен в тренировочном датасете"
   ]
  },
  {
   "cell_type": "markdown",
   "metadata": {},
   "source": [
    "Посмотрим, как пропущенные значения цен распределены по месяцам."
   ]
  },
  {
   "cell_type": "code",
   "execution_count": 48,
   "metadata": {},
   "outputs": [
    {
     "data": {
      "text/plain": [
       "<matplotlib.axes._subplots.AxesSubplot at 0x7f40bc7f8278>"
      ]
     },
     "execution_count": 48,
     "metadata": {},
     "output_type": "execute_result"
    },
    {
     "data": {
      "image/png": "[encoded data removed]",
      "text/plain": [
       "<Figure size 432x288 with 1 Axes>"
      ]
     },
     "metadata": {
      "needs_background": "light"
     },
     "output_type": "display_data"
    }
   ],
   "source": [
    "train_data[train_data.price.isnull()].month_n.hist()"
   ]
  },
  {
   "cell_type": "markdown",
   "metadata": {},
   "source": [
    "Видно, что пропущенные цены имеются только в 2017 году."
   ]
  },
  {
   "cell_type": "markdown",
   "metadata": {},
   "source": [
    "Посмотрим как цена товара в регионе зависит от номера месяца.\n",
    "(Ограничимся тремя случайными товарами)\n",
    "Если зависимости окажутся линейными, цены можно будет восстановить используя линейную регрессию для каждого товара в каждом регионе."
   ]
  },
  {
   "cell_type": "code",
   "execution_count": 49,
   "metadata": {},
   "outputs": [
    {
     "data": {
      "text/plain": [
       "<matplotlib.axes._subplots.AxesSubplot at 0x7f40ba12d780>"
      ]
     },
     "execution_count": 49,
     "metadata": {},
     "output_type": "execute_result"
    },
    {
     "data": {
      "image/png": "[encoded data removed]",
      "text/plain": [
       "<Figure size 1296x1296 with 9 Axes>"
      ]
     },
     "metadata": {},
     "output_type": "display_data"
    }
   ],
   "source": [
    "sns.set(rc={'figure.figsize': (18, 18)})\n",
    "fig, ax = plt.subplots(3,3)\n",
    "\n",
    "\"\"\"Первая строка\"\"\"\n",
    "sns.scatterplot(sales_data_train[(sales_data_train.sku_id == 'sku #77') & (sales_data_train.ira == 'AC')].month_n,\n",
    "              sales_data_train[(sales_data_train.sku_id == 'sku #77') & (sales_data_train.ira == 'AC')].price,\n",
    "              color=\"g\", ax=ax[0, 0], label='sku #77 in AC')\n",
    "\n",
    "sns.scatterplot(sales_data_train[(sales_data_train.sku_id == 'sku #15') & (sales_data_train.ira == 'PB')].month_n,\n",
    "              sales_data_train[(sales_data_train.sku_id == 'sku #15') & (sales_data_train.ira == 'PB')].price,\n",
    "              color=\"r\", ax=ax[0, 1], label='sku #15 in PB')\n",
    "\n",
    "sns.scatterplot(sales_data_train[(sales_data_train.sku_id == 'sku #97') & (sales_data_train.ira == 'MN')].month_n,\n",
    "              sales_data_train[(sales_data_train.sku_id == 'sku #97') & (sales_data_train.ira == 'MN')].price,\n",
    "              color=\"b\", ax=ax[0, 2], label='sku #97 in MN')\n",
    "\n",
    "\"\"\"Вторая строка\"\"\"\n",
    "sns.scatterplot(sales_data_train[(sales_data_train.sku_id == 'sku #77') & (sales_data_train.ira == 'MN')].month_n,\n",
    "              sales_data_train[(sales_data_train.sku_id == 'sku #77') & (sales_data_train.ira == 'MN')].price,\n",
    "              color=\"g\", ax=ax[1, 0], label='sku #77 in MN')\n",
    "\n",
    "sns.scatterplot(sales_data_train[(sales_data_train.sku_id == 'sku #15') & (sales_data_train.ira == 'AC')].month_n,\n",
    "              sales_data_train[(sales_data_train.sku_id == 'sku #15') & (sales_data_train.ira == 'AC')].price,\n",
    "              color=\"r\", ax=ax[1, 1], label='sku #15 in AC')\n",
    "\n",
    "sns.scatterplot(sales_data_train[(sales_data_train.sku_id == 'sku #97') & (sales_data_train.ira == 'PB')].month_n,\n",
    "              sales_data_train[(sales_data_train.sku_id == 'sku #97') & (sales_data_train.ira == 'PB')].price,\n",
    "              color=\"b\", ax=ax[1, 2], label='sku #97 in PB')\n",
    "\n",
    "\"\"\"Третья строка\"\"\"\n",
    "sns.scatterplot(sales_data_train[(sales_data_train.sku_id == 'sku #77') & (sales_data_train.ira == 'PB')].month_n,\n",
    "              sales_data_train[(sales_data_train.sku_id == 'sku #77') & (sales_data_train.ira == 'PB')].price,\n",
    "              color=\"g\", ax=ax[2, 0], label='sku #77 in PB')\n",
    "\n",
    "sns.scatterplot(sales_data_train[(sales_data_train.sku_id == 'sku #15') & (sales_data_train.ira == 'MN')].month_n,\n",
    "              sales_data_train[(sales_data_train.sku_id == 'sku #15') & (sales_data_train.ira == 'MN')].price,\n",
    "              color=\"r\", ax=ax[2, 1], label='sku #15 in MN')\n",
    "\n",
    "sns.scatterplot(sales_data_train[(sales_data_train.sku_id == 'sku #97') & (sales_data_train.ira == 'AC')].month_n,\n",
    "              sales_data_train[(sales_data_train.sku_id == 'sku #97') & (sales_data_train.ira == 'AC')].price,\n",
    "              color=\"b\", ax=ax[2, 2], label='sku #97 in AC')"
   ]
  },
  {
   "cell_type": "markdown",
   "metadata": {},
   "source": [
    "К сожалению, зависимости не линейные, и простой линейной регрессией восползоваться не удастся."
   ]
  },
  {
   "cell_type": "markdown",
   "metadata": {},
   "source": [
    "Воспользуемся регрессоом из библиотеки **XGboost**, хорошо зарекомендовавшим себя на других похожих задачах.\n",
    "(В моем опыте решения задач на Kaggle модели из этой библиотеки неизменно превосходят остальные модели по большинству метрик) "
   ]
  },
  {
   "cell_type": "code",
   "execution_count": 50,
   "metadata": {},
   "outputs": [],
   "source": [
    "import xgboost as xgb\n",
    "from sklearn.model_selection import train_test_split, RandomizedSearchCV\n",
    "from sklearn.metrics import mean_absolute_error, mean_squared_error, r2_score"
   ]
  },
  {
   "cell_type": "markdown",
   "metadata": {},
   "source": [
    "Подготовим данные для тренировки и пресказания"
   ]
  },
  {
   "cell_type": "code",
   "execution_count": 51,
   "metadata": {},
   "outputs": [
    {
     "data": {
      "text/html": [
       "<div>\n",
       "<style scoped>\n",
       "    .dataframe tbody tr th:only-of-type {\n",
       "        vertical-align: middle;\n",
       "    }\n",
       "\n",
       "    .dataframe tbody tr th {\n",
       "        vertical-align: top;\n",
       "    }\n",
       "\n",
       "    .dataframe thead th {\n",
       "        text-align: right;\n",
       "    }\n",
       "</style>\n",
       "<table border=\"1\" class=\"dataframe\">\n",
       "  <thead>\n",
       "    <tr style=\"text-align: right;\">\n",
       "      <th></th>\n",
       "      <th>ira</th>\n",
       "      <th>product_category</th>\n",
       "      <th>brand</th>\n",
       "      <th>sku_id</th>\n",
       "      <th>item_per_bundle</th>\n",
       "      <th>shape</th>\n",
       "      <th>with_alcohol</th>\n",
       "      <th>filling</th>\n",
       "      <th>volume</th>\n",
       "      <th>price</th>\n",
       "      <th>...</th>\n",
       "      <th>Goblin</th>\n",
       "      <th>Gremlin</th>\n",
       "      <th>Medusa</th>\n",
       "      <th>Minotaur</th>\n",
       "      <th>Monk</th>\n",
       "      <th>Orc</th>\n",
       "      <th>Pegasus</th>\n",
       "      <th>Pirate</th>\n",
       "      <th>Unicorn</th>\n",
       "      <th>other</th>\n",
       "    </tr>\n",
       "  </thead>\n",
       "  <tbody>\n",
       "    <tr>\n",
       "      <td>0</td>\n",
       "      <td>0</td>\n",
       "      <td>0</td>\n",
       "      <td>0</td>\n",
       "      <td>35</td>\n",
       "      <td>0</td>\n",
       "      <td>2</td>\n",
       "      <td>0</td>\n",
       "      <td>1</td>\n",
       "      <td>0.300544</td>\n",
       "      <td>NaN</td>\n",
       "      <td>...</td>\n",
       "      <td>-0.510078</td>\n",
       "      <td>-0.710419</td>\n",
       "      <td>-0.323837</td>\n",
       "      <td>-0.682747</td>\n",
       "      <td>1.033682</td>\n",
       "      <td>1.417077</td>\n",
       "      <td>0.5764</td>\n",
       "      <td>-0.342145</td>\n",
       "      <td>0.645922</td>\n",
       "      <td>0.346924</td>\n",
       "    </tr>\n",
       "    <tr>\n",
       "      <td>1</td>\n",
       "      <td>0</td>\n",
       "      <td>0</td>\n",
       "      <td>2</td>\n",
       "      <td>4</td>\n",
       "      <td>0</td>\n",
       "      <td>2</td>\n",
       "      <td>0</td>\n",
       "      <td>1</td>\n",
       "      <td>1.294830</td>\n",
       "      <td>-0.587805</td>\n",
       "      <td>...</td>\n",
       "      <td>-0.510078</td>\n",
       "      <td>-0.710419</td>\n",
       "      <td>-0.323837</td>\n",
       "      <td>-0.682747</td>\n",
       "      <td>1.033682</td>\n",
       "      <td>1.417077</td>\n",
       "      <td>0.5764</td>\n",
       "      <td>-0.342145</td>\n",
       "      <td>0.645922</td>\n",
       "      <td>0.346924</td>\n",
       "    </tr>\n",
       "    <tr>\n",
       "      <td>2</td>\n",
       "      <td>0</td>\n",
       "      <td>0</td>\n",
       "      <td>2</td>\n",
       "      <td>5</td>\n",
       "      <td>2</td>\n",
       "      <td>2</td>\n",
       "      <td>0</td>\n",
       "      <td>1</td>\n",
       "      <td>0.885723</td>\n",
       "      <td>1.978626</td>\n",
       "      <td>...</td>\n",
       "      <td>-0.510078</td>\n",
       "      <td>-0.710419</td>\n",
       "      <td>-0.323837</td>\n",
       "      <td>-0.682747</td>\n",
       "      <td>1.033682</td>\n",
       "      <td>1.417077</td>\n",
       "      <td>0.5764</td>\n",
       "      <td>-0.342145</td>\n",
       "      <td>0.645922</td>\n",
       "      <td>0.346924</td>\n",
       "    </tr>\n",
       "  </tbody>\n",
       "</table>\n",
       "<p>3 rows × 31 columns</p>\n",
       "</div>"
      ],
      "text/plain": [
       "   ira  product_category  brand  sku_id  item_per_bundle  shape  with_alcohol  \\\n",
       "0    0                 0      0      35                0      2             0   \n",
       "1    0                 0      2       4                0      2             0   \n",
       "2    0                 0      2       5                2      2             0   \n",
       "\n",
       "   filling    volume     price  ...    Goblin   Gremlin    Medusa  Minotaur  \\\n",
       "0        1  0.300544       NaN  ... -0.510078 -0.710419 -0.323837 -0.682747   \n",
       "1        1  1.294830 -0.587805  ... -0.510078 -0.710419 -0.323837 -0.682747   \n",
       "2        1  0.885723  1.978626  ... -0.510078 -0.710419 -0.323837 -0.682747   \n",
       "\n",
       "       Monk       Orc  Pegasus    Pirate   Unicorn     other  \n",
       "0  1.033682  1.417077   0.5764 -0.342145  0.645922  0.346924  \n",
       "1  1.033682  1.417077   0.5764 -0.342145  0.645922  0.346924  \n",
       "2  1.033682  1.417077   0.5764 -0.342145  0.645922  0.346924  \n",
       "\n",
       "[3 rows x 31 columns]"
      ]
     },
     "execution_count": 51,
     "metadata": {},
     "output_type": "execute_result"
    }
   ],
   "source": [
    "train_data.head(3)"
   ]
  },
  {
   "cell_type": "code",
   "execution_count": 52,
   "metadata": {},
   "outputs": [],
   "source": [
    "data_to_pred_price_train = train_data[train_data.price.notnull()]"
   ]
  },
  {
   "cell_type": "code",
   "execution_count": 53,
   "metadata": {},
   "outputs": [
    {
     "data": {
      "text/plain": [
       "Series([], dtype: int64)"
      ]
     },
     "execution_count": 53,
     "metadata": {},
     "output_type": "execute_result"
    }
   ],
   "source": [
    "null_number = data_to_pred_price_train.isnull().sum()\n",
    "null_number[null_number!=0]"
   ]
  },
  {
   "cell_type": "code",
   "execution_count": 54,
   "metadata": {},
   "outputs": [
    {
     "data": {
      "text/plain": [
       "(1582, 31)"
      ]
     },
     "execution_count": 54,
     "metadata": {},
     "output_type": "execute_result"
    }
   ],
   "source": [
    "data_to_pred_price_train.shape"
   ]
  },
  {
   "cell_type": "code",
   "execution_count": 55,
   "metadata": {},
   "outputs": [],
   "source": [
    "data_to_pred_price = train_data[train_data.price.isnull()]"
   ]
  },
  {
   "cell_type": "code",
   "execution_count": 56,
   "metadata": {},
   "outputs": [
    {
     "data": {
      "text/plain": [
       "price    112\n",
       "dtype: int64"
      ]
     },
     "execution_count": 56,
     "metadata": {},
     "output_type": "execute_result"
    }
   ],
   "source": [
    "null_number = data_to_pred_price.isnull().sum()\n",
    "null_number[null_number!=0]"
   ]
  },
  {
   "cell_type": "code",
   "execution_count": 57,
   "metadata": {},
   "outputs": [
    {
     "data": {
      "text/plain": [
       "(112, 31)"
      ]
     },
     "execution_count": 57,
     "metadata": {},
     "output_type": "execute_result"
    }
   ],
   "source": [
    "data_to_pred_price.shape"
   ]
  },
  {
   "cell_type": "code",
   "execution_count": 58,
   "metadata": {},
   "outputs": [],
   "source": [
    "y = data_to_pred_price_train.price\n",
    "X = data_to_pred_price_train.drop(columns=['price'])"
   ]
  },
  {
   "cell_type": "code",
   "execution_count": 59,
   "metadata": {},
   "outputs": [],
   "source": [
    "X_train, X_test, y_train, y_test = train_test_split(X, y, test_size=0.25, random_state=42)"
   ]
  },
  {
   "cell_type": "code",
   "execution_count": 60,
   "metadata": {},
   "outputs": [],
   "source": [
    "X_to_pred = data_to_pred_price.drop(columns=['price'])"
   ]
  },
  {
   "cell_type": "markdown",
   "metadata": {},
   "source": [
    "**Подготовим и обучим модель**"
   ]
  },
  {
   "cell_type": "code",
   "execution_count": 61,
   "metadata": {},
   "outputs": [],
   "source": [
    "regr = xgb.XGBRegressor()"
   ]
  },
  {
   "cell_type": "code",
   "execution_count": 62,
   "metadata": {},
   "outputs": [],
   "source": [
    "parameters = {'learning_rate': [0.01, 0.05, 0.1, 0.3, 0.6, 0.9],\n",
    "              'verbosity': range(0, 4),\n",
    "              'booster': ['gbtree', 'dart'],\n",
    "              'max_depth': range(4, 15), 'min_samples_split': range(10, 300, 15),\n",
    "              'min_samples_leaf': range(10, 300, 10),\n",
    "              'n_estimators': range(50, 500, 10)}"
   ]
  },
  {
   "cell_type": "markdown",
   "metadata": {},
   "source": [
    "Следующий блок выполняется довольно долго, но в данном случае было решено, что точность играет наиболее важную роль. В противном случае можно уменьшить количество итераций или варьируемых параметров."
   ]
  },
  {
   "cell_type": "code",
   "execution_count": 63,
   "metadata": {},
   "outputs": [],
   "source": [
    "rand_search_cv = RandomizedSearchCV(regr, parameters, cv=5, scoring='neg_mean_absolute_error',\n",
    "                                    n_iter=50, n_jobs=-1, random_state=0)"
   ]
  },
  {
   "cell_type": "code",
   "execution_count": 64,
   "metadata": {},
   "outputs": [
    {
     "name": "stderr",
     "output_type": "stream",
     "text": [
      "/home/gleb/.local/lib/python3.6/site-packages/xgboost/core.py:587: FutureWarning: Series.base is deprecated and will be removed in a future version\n",
      "  if getattr(data, 'base', None) is not None and \\\n"
     ]
    },
    {
     "name": "stdout",
     "output_type": "stream",
     "text": [
      "[17:37:15] WARNING: /workspace/src/objective/regression_obj.cu:152: reg:linear is now deprecated in favor of reg:squarederror.\n"
     ]
    },
    {
     "data": {
      "text/plain": [
       "RandomizedSearchCV(cv=5, error_score='raise-deprecating',\n",
       "                   estimator=XGBRegressor(base_score=0.5, booster='gbtree',\n",
       "                                          colsample_bylevel=1,\n",
       "                                          colsample_bynode=1,\n",
       "                                          colsample_bytree=1, gamma=0,\n",
       "                                          importance_type='gain',\n",
       "                                          learning_rate=0.1, max_delta_step=0,\n",
       "                                          max_depth=3, min_child_weight=1,\n",
       "                                          missing=None, n_estimators=100,\n",
       "                                          n_jobs=1, nthread=None,\n",
       "                                          objective='reg:linear',\n",
       "                                          random_st...\n",
       "                   param_distributions={'booster': ['gbtree', 'dart'],\n",
       "                                        'learning_rate': [0.01, 0.05, 0.1, 0.3,\n",
       "                                                          0.6, 0.9],\n",
       "                                        'max_depth': range(4, 15),\n",
       "                                        'min_samples_leaf': range(10, 300, 10),\n",
       "                                        'min_samples_split': range(10, 300, 15),\n",
       "                                        'n_estimators': range(50, 500, 10),\n",
       "                                        'verbosity': range(0, 4)},\n",
       "                   pre_dispatch='2*n_jobs', random_state=0, refit=True,\n",
       "                   return_train_score=False, scoring='neg_mean_absolute_error',\n",
       "                   verbose=0)"
      ]
     },
     "execution_count": 64,
     "metadata": {},
     "output_type": "execute_result"
    }
   ],
   "source": [
    "rand_search_cv.fit(X_train, y_train)"
   ]
  },
  {
   "cell_type": "code",
   "execution_count": 65,
   "metadata": {},
   "outputs": [
    {
     "data": {
      "text/plain": [
       "{'verbosity': 1,\n",
       " 'n_estimators': 360,\n",
       " 'min_samples_split': 100,\n",
       " 'min_samples_leaf': 70,\n",
       " 'max_depth': 7,\n",
       " 'learning_rate': 0.05,\n",
       " 'booster': 'gbtree'}"
      ]
     },
     "execution_count": 65,
     "metadata": {},
     "output_type": "execute_result"
    }
   ],
   "source": [
    "rand_search_cv.best_params_"
   ]
  },
  {
   "cell_type": "code",
   "execution_count": 66,
   "metadata": {},
   "outputs": [],
   "source": [
    "xgb_best = rand_search_cv.best_estimator_"
   ]
  },
  {
   "cell_type": "code",
   "execution_count": 67,
   "metadata": {},
   "outputs": [
    {
     "data": {
      "text/html": [
       "<div>\n",
       "<style scoped>\n",
       "    .dataframe tbody tr th:only-of-type {\n",
       "        vertical-align: middle;\n",
       "    }\n",
       "\n",
       "    .dataframe tbody tr th {\n",
       "        vertical-align: top;\n",
       "    }\n",
       "\n",
       "    .dataframe thead th {\n",
       "        text-align: right;\n",
       "    }\n",
       "</style>\n",
       "<table border=\"1\" class=\"dataframe\">\n",
       "  <thead>\n",
       "    <tr style=\"text-align: right;\">\n",
       "      <th></th>\n",
       "      <th>XGBRegression</th>\n",
       "    </tr>\n",
       "  </thead>\n",
       "  <tbody>\n",
       "    <tr>\n",
       "      <td>MSE</td>\n",
       "      <td>0.000423</td>\n",
       "    </tr>\n",
       "    <tr>\n",
       "      <td>MAE</td>\n",
       "      <td>0.010969</td>\n",
       "    </tr>\n",
       "    <tr>\n",
       "      <td>R2</td>\n",
       "      <td>0.999545</td>\n",
       "    </tr>\n",
       "  </tbody>\n",
       "</table>\n",
       "</div>"
      ],
      "text/plain": [
       "     XGBRegression\n",
       "MSE       0.000423\n",
       "MAE       0.010969\n",
       "R2        0.999545"
      ]
     },
     "execution_count": 67,
     "metadata": {},
     "output_type": "execute_result"
    }
   ],
   "source": [
    "score = pd.DataFrame()\n",
    "score['XGBRegression'] = [mean_squared_error(y_test,\n",
    "                                                 xgb_best.predict(X_test)),\n",
    "                             mean_absolute_error(y_test,\n",
    "                                                 xgb_best.predict(X_test)),\n",
    "                             r2_score(y_test,\n",
    "                                      xgb_best.predict(X_test))]\n",
    "score.index = ['MSE', 'MAE', 'R2']\n",
    "score"
   ]
  },
  {
   "cell_type": "markdown",
   "metadata": {},
   "source": [
    "Модель демонстрирует хорошую точность"
   ]
  },
  {
   "cell_type": "markdown",
   "metadata": {},
   "source": [
    "**Восстановим пропущенные значения цен**"
   ]
  },
  {
   "cell_type": "code",
   "execution_count": 68,
   "metadata": {},
   "outputs": [],
   "source": [
    "predicted_prices = xgb_best.predict(X_to_pred)"
   ]
  },
  {
   "cell_type": "code",
   "execution_count": 69,
   "metadata": {},
   "outputs": [
    {
     "name": "stderr",
     "output_type": "stream",
     "text": [
      "/home/gleb/.local/lib/python3.6/site-packages/ipykernel_launcher.py:1: SettingWithCopyWarning: \n",
      "A value is trying to be set on a copy of a slice from a DataFrame.\n",
      "Try using .loc[row_indexer,col_indexer] = value instead\n",
      "\n",
      "See the caveats in the documentation: http://pandas.pydata.org/pandas-docs/stable/user_guide/indexing.html#returning-a-view-versus-a-copy\n",
      "  \"\"\"Entry point for launching an IPython kernel.\n"
     ]
    }
   ],
   "source": [
    "data_to_pred_price['price'] = predicted_prices"
   ]
  },
  {
   "cell_type": "code",
   "execution_count": 70,
   "metadata": {},
   "outputs": [],
   "source": [
    "train_data = data_to_pred_price_train.append(data_to_pred_price).sort_index()"
   ]
  },
  {
   "cell_type": "code",
   "execution_count": 71,
   "metadata": {},
   "outputs": [
    {
     "data": {
      "text/html": [
       "<div>\n",
       "<style scoped>\n",
       "    .dataframe tbody tr th:only-of-type {\n",
       "        vertical-align: middle;\n",
       "    }\n",
       "\n",
       "    .dataframe tbody tr th {\n",
       "        vertical-align: top;\n",
       "    }\n",
       "\n",
       "    .dataframe thead th {\n",
       "        text-align: right;\n",
       "    }\n",
       "</style>\n",
       "<table border=\"1\" class=\"dataframe\">\n",
       "  <thead>\n",
       "    <tr style=\"text-align: right;\">\n",
       "      <th></th>\n",
       "      <th>ira</th>\n",
       "      <th>product_category</th>\n",
       "      <th>brand</th>\n",
       "      <th>sku_id</th>\n",
       "      <th>item_per_bundle</th>\n",
       "      <th>shape</th>\n",
       "      <th>with_alcohol</th>\n",
       "      <th>filling</th>\n",
       "      <th>volume</th>\n",
       "      <th>price</th>\n",
       "      <th>...</th>\n",
       "      <th>Goblin</th>\n",
       "      <th>Gremlin</th>\n",
       "      <th>Medusa</th>\n",
       "      <th>Minotaur</th>\n",
       "      <th>Monk</th>\n",
       "      <th>Orc</th>\n",
       "      <th>Pegasus</th>\n",
       "      <th>Pirate</th>\n",
       "      <th>Unicorn</th>\n",
       "      <th>other</th>\n",
       "    </tr>\n",
       "  </thead>\n",
       "  <tbody>\n",
       "    <tr>\n",
       "      <td>0</td>\n",
       "      <td>0</td>\n",
       "      <td>0</td>\n",
       "      <td>0</td>\n",
       "      <td>35</td>\n",
       "      <td>0</td>\n",
       "      <td>2</td>\n",
       "      <td>0</td>\n",
       "      <td>1</td>\n",
       "      <td>0.300544</td>\n",
       "      <td>-0.664089</td>\n",
       "      <td>...</td>\n",
       "      <td>-0.510078</td>\n",
       "      <td>-0.710419</td>\n",
       "      <td>-0.323837</td>\n",
       "      <td>-0.682747</td>\n",
       "      <td>1.033682</td>\n",
       "      <td>1.417077</td>\n",
       "      <td>0.5764</td>\n",
       "      <td>-0.342145</td>\n",
       "      <td>0.645922</td>\n",
       "      <td>0.346924</td>\n",
       "    </tr>\n",
       "    <tr>\n",
       "      <td>1</td>\n",
       "      <td>0</td>\n",
       "      <td>0</td>\n",
       "      <td>2</td>\n",
       "      <td>4</td>\n",
       "      <td>0</td>\n",
       "      <td>2</td>\n",
       "      <td>0</td>\n",
       "      <td>1</td>\n",
       "      <td>1.294830</td>\n",
       "      <td>-0.587805</td>\n",
       "      <td>...</td>\n",
       "      <td>-0.510078</td>\n",
       "      <td>-0.710419</td>\n",
       "      <td>-0.323837</td>\n",
       "      <td>-0.682747</td>\n",
       "      <td>1.033682</td>\n",
       "      <td>1.417077</td>\n",
       "      <td>0.5764</td>\n",
       "      <td>-0.342145</td>\n",
       "      <td>0.645922</td>\n",
       "      <td>0.346924</td>\n",
       "    </tr>\n",
       "    <tr>\n",
       "      <td>2</td>\n",
       "      <td>0</td>\n",
       "      <td>0</td>\n",
       "      <td>2</td>\n",
       "      <td>5</td>\n",
       "      <td>2</td>\n",
       "      <td>2</td>\n",
       "      <td>0</td>\n",
       "      <td>1</td>\n",
       "      <td>0.885723</td>\n",
       "      <td>1.978626</td>\n",
       "      <td>...</td>\n",
       "      <td>-0.510078</td>\n",
       "      <td>-0.710419</td>\n",
       "      <td>-0.323837</td>\n",
       "      <td>-0.682747</td>\n",
       "      <td>1.033682</td>\n",
       "      <td>1.417077</td>\n",
       "      <td>0.5764</td>\n",
       "      <td>-0.342145</td>\n",
       "      <td>0.645922</td>\n",
       "      <td>0.346924</td>\n",
       "    </tr>\n",
       "  </tbody>\n",
       "</table>\n",
       "<p>3 rows × 31 columns</p>\n",
       "</div>"
      ],
      "text/plain": [
       "   ira  product_category  brand  sku_id  item_per_bundle  shape  with_alcohol  \\\n",
       "0    0                 0      0      35                0      2             0   \n",
       "1    0                 0      2       4                0      2             0   \n",
       "2    0                 0      2       5                2      2             0   \n",
       "\n",
       "   filling    volume     price  ...    Goblin   Gremlin    Medusa  Minotaur  \\\n",
       "0        1  0.300544 -0.664089  ... -0.510078 -0.710419 -0.323837 -0.682747   \n",
       "1        1  1.294830 -0.587805  ... -0.510078 -0.710419 -0.323837 -0.682747   \n",
       "2        1  0.885723  1.978626  ... -0.510078 -0.710419 -0.323837 -0.682747   \n",
       "\n",
       "       Monk       Orc  Pegasus    Pirate   Unicorn     other  \n",
       "0  1.033682  1.417077   0.5764 -0.342145  0.645922  0.346924  \n",
       "1  1.033682  1.417077   0.5764 -0.342145  0.645922  0.346924  \n",
       "2  1.033682  1.417077   0.5764 -0.342145  0.645922  0.346924  \n",
       "\n",
       "[3 rows x 31 columns]"
      ]
     },
     "execution_count": 71,
     "metadata": {},
     "output_type": "execute_result"
    }
   ],
   "source": [
    "train_data.head(3)"
   ]
  },
  {
   "cell_type": "code",
   "execution_count": 72,
   "metadata": {},
   "outputs": [
    {
     "data": {
      "text/plain": [
       "(1694, 31)"
      ]
     },
     "execution_count": 72,
     "metadata": {},
     "output_type": "execute_result"
    }
   ],
   "source": [
    "train_data.shape"
   ]
  },
  {
   "cell_type": "code",
   "execution_count": 73,
   "metadata": {},
   "outputs": [
    {
     "data": {
      "text/plain": [
       "Series([], dtype: int64)"
      ]
     },
     "execution_count": 73,
     "metadata": {},
     "output_type": "execute_result"
    }
   ],
   "source": [
    "null_number = train_data.isnull().sum()\n",
    "null_number[null_number!=0]"
   ]
  },
  {
   "cell_type": "markdown",
   "metadata": {},
   "source": [
    "**Подготовка данных завершена, непосредственным решением задач займемся в другом ноутбуке**"
   ]
  },
  {
   "cell_type": "code",
   "execution_count": 74,
   "metadata": {},
   "outputs": [],
   "source": [
    "train_data.to_csv('train_data.csv')\n",
    "prediction_data.to_csv('prediction_data.csv')"
   ]
  },
  {
   "cell_type": "markdown",
   "metadata": {},
   "source": [
    "Запомним следующие значения"
   ]
  },
  {
   "cell_type": "code",
   "execution_count": 75,
   "metadata": {},
   "outputs": [
    {
     "data": {
      "text/plain": [
       "3527.3506493506493"
      ]
     },
     "execution_count": 75,
     "metadata": {},
     "output_type": "execute_result"
    }
   ],
   "source": [
    "volume_mean"
   ]
  },
  {
   "cell_type": "code",
   "execution_count": 76,
   "metadata": {},
   "outputs": [
    {
     "data": {
      "text/plain": [
       "3475.861595475336"
      ]
     },
     "execution_count": 76,
     "metadata": {},
     "output_type": "execute_result"
    }
   ],
   "source": [
    "volume_std"
   ]
  },
  {
   "cell_type": "code",
   "execution_count": 77,
   "metadata": {},
   "outputs": [
    {
     "data": {
      "text/plain": [
       "1.5981150052361002"
      ]
     },
     "execution_count": 77,
     "metadata": {},
     "output_type": "execute_result"
    }
   ],
   "source": [
    "price_mean"
   ]
  },
  {
   "cell_type": "code",
   "execution_count": 78,
   "metadata": {},
   "outputs": [
    {
     "data": {
      "text/plain": [
       "0.6409932599958659"
      ]
     },
     "execution_count": 78,
     "metadata": {},
     "output_type": "execute_result"
    }
   ],
   "source": [
    "price_std"
   ]
  },
  {
   "cell_type": "code",
   "execution_count": null,
   "metadata": {},
   "outputs": [],
   "source": []
  }
 ],
 "metadata": {
  "kernelspec": {
   "display_name": "Python 3",
   "language": "python",
   "name": "python3"
  },
  "language_info": {
   "codemirror_mode": {
    "name": "ipython",
    "version": 3
   },
   "file_extension": ".py",
   "mimetype": "text/x-python",
   "name": "python",
   "nbconvert_exporter": "python",
   "pygments_lexer": "ipython3",
   "version": "3.6.8"
  }
 },
 "nbformat": 4,
 "nbformat_minor": 2
}
